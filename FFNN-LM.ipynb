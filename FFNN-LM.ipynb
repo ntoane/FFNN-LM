{
 "cells": [
  {
   "cell_type": "code",
   "execution_count": 1,
   "metadata": {
    "id": "d_q6vcf9S0Tf"
   },
   "outputs": [],
   "source": [
    "# Import necessary modules\n",
    "import torch\n",
    "import torch.autograd as autograd\n",
    "import torch.nn as nn\n",
    "import torch.nn.functional as F\n",
    "import torch.optim as optim\n",
    "from torch.utils.data import Dataset\n",
    "from torch.utils import data\n",
    "from torch.optim.lr_scheduler import StepLR\n",
    "import string\n",
    "import math\n",
    "import time\n",
    "import matplotlib.pyplot as plt\n",
    "import numpy as np\n"
   ]
  },
  {
   "cell_type": "code",
   "execution_count": 3,
   "metadata": {
    "colab": {
     "base_uri": "https://localhost:8080/"
    },
    "id": "3hdxpunGIZxa",
    "outputId": "4ff401f1-1ea6-498e-f8a7-b57fafc8b6a6"
   },
   "outputs": [
    {
     "name": "stdout",
     "output_type": "stream",
     "text": [
      "Using GPU\n"
     ]
    }
   ],
   "source": [
    "# Clear cuda memory\n",
    "torch.cuda.empty_cache()\n",
    "# Use GPU if available otherwise use CPU\n",
    "use_cuda = torch.cuda.is_available()\n",
    "if use_cuda: print(\"Using GPU\") \n",
    "else: print(\"Using CPU\")\n",
    "device = torch.device(\"cuda:0\" if use_cuda else \"cpu\")\n",
    "torch.backends.cudnn.benchmark = True"
   ]
  },
  {
   "cell_type": "code",
   "execution_count": 4,
   "metadata": {
    "colab": {
     "base_uri": "https://localhost:8080/"
    },
    "id": "i2ppPDEg-uMn",
    "outputId": "25abf541-f4af-4ddd-c74e-a10245697903"
   },
   "outputs": [
    {
     "name": "stdout",
     "output_type": "stream",
     "text": [
      "Do you want to use SGD or Adam optimizer? Enter 1 for SGD or enter 2 for Adam, then press ENTER2\n"
     ]
    }
   ],
   "source": [
    "# Choose whether to use SGD or Adam optimizer\n",
    "# global optimizer_choice\n",
    "# optimizer_choice = input(\"Do you want to use SGD or Adam optimizer? Enter 1 for SGD or enter 2 for Adam, then press ENTER\")\n",
    "optimizer_choice = '2'"
   ]
  },
  {
   "cell_type": "code",
   "execution_count": 5,
   "metadata": {
    "id": "ARcM-s5hT-qA"
   },
   "outputs": [],
   "source": [
    "# Load document into memory\n",
    "def load_document(filename) -> str:\n",
    "    # open the file as read only\n",
    "    file = open(filename, 'r')\n",
    "    # read all text in the file\n",
    "    text = file.read()\n",
    "    # close the file\n",
    "    file.close()\n",
    "    return text"
   ]
  },
  {
   "cell_type": "code",
   "execution_count": 7,
   "metadata": {
    "id": "p4lIvXrea8Sk"
   },
   "outputs": [],
   "source": [
    "# Load train dataset\n",
    "train_filename = '/content/drive/MyDrive/LMDatasets/nchlt_text.zu.train'\n",
    "train_document = load_document(train_filename)\n",
    "# Load validation dataset\n",
    "valid_filename = '/content/drive/MyDrive/LMDatasets/nchlt_text.zu.valid'\n",
    "valid_document = load_document(valid_filename)\n",
    "# Load test dataset\n",
    "test_filename = '/content/drive/MyDrive/LMDatasets/nchlt_text.zu.test'\n",
    "test_document = load_document(test_filename)"
   ]
  },
  {
   "cell_type": "code",
   "execution_count": 8,
   "metadata": {
    "id": "qtJR0YTmTIs2"
   },
   "outputs": [],
   "source": [
    "# Create tokens from the document\n",
    "def clean_data(document) -> list :\n",
    "    # Split by sentences\n",
    "    sentences = document.split(\".\")\n",
    "    # Split sentences into words\n",
    "    words = [x.split() for x in sentences]\n",
    "\n",
    "    # Remove punctuation from each token\n",
    "    table = str.maketrans('', '', string.punctuation)\n",
    "\n",
    "    for i,s in enumerate(words):\n",
    "      words[i] = [w.translate(table) for w in s]\n",
    "      # Normalise to lower case\n",
    "      words[i] = [word.lower() for word in s]\n",
    "      # Remove empty list index using list comprehension\n",
    "      words[i] = [i for i in words[i] if i]\n",
    "\n",
    "    return words\n",
    " "
   ]
  },
  {
   "cell_type": "code",
   "execution_count": 9,
   "metadata": {
    "colab": {
     "base_uri": "https://localhost:8080/"
    },
    "id": "wuUFNphae2OX",
    "outputId": "4fab89ee-eb31-4f6e-d41c-fea790191b7f"
   },
   "outputs": [
    {
     "name": "stdout",
     "output_type": "stream",
     "text": [
      "Total Tokens: 94039\n",
      "First sentence: ['funda', 'umhlahlandlela', 'wesicelo', 'sokujoyina', 'ekhasini', '7', 'ngokucophelela,', 'njengoba', 'uqukethe', 'ulwazi', 'olubalulekile', 'oluzokusiza', 'ekugcwaliseni', 'ifomu', 'lokufaka', 'isicelo', 'sokujoyina', 'ngendlela', 'efanele']\n"
     ]
    }
   ],
   "source": [
    "# Call function to clean document and view number of tokens\n",
    "train_sentence = clean_data(train_document)\n",
    "\n",
    "print('Total Tokens: %d' % len(train_sentence))\n",
    "print(f\"First sentence: {train_sentence[0]}\")"
   ]
  },
  {
   "cell_type": "code",
   "execution_count": 10,
   "metadata": {
    "id": "Vd4WzXX8XfUF"
   },
   "outputs": [],
   "source": [
    "def unknownWords(words) :\n",
    "    # From word mapping to index, create a dictionary of count of words\n",
    "    words_dict = {}\n",
    "    for index, word in enumerate(words) :\n",
    "      for w in words[index] :\n",
    "        if w in words_dict:\n",
    "            words_dict[w] +=1\n",
    "        else:\n",
    "            words_dict[w] = 1\n",
    "\n",
    "    # Create train set and replace all words that occur only once in the training data with UNK token\n",
    "    for index, word in enumerate(words) :\n",
    "      for i, w in enumerate(words[index]) :\n",
    "        if words_dict[w] == 1 :\n",
    "            words[index][i] = \"UNK\"\n",
    "    \n",
    "    train_set = []\n",
    "    for sentence in words:\n",
    "      for word in sentence:\n",
    "          train_set.append(word)\n",
    "\n",
    "    return words, train_set, words_dict"
   ]
  },
  {
   "cell_type": "code",
   "execution_count": 11,
   "metadata": {
    "id": "VQVaUpnNIZxe"
   },
   "outputs": [],
   "source": [
    "train_words, train_set, test_words_dict = unknownWords(train_sentence)\n",
    "# Create training vocabulary\n",
    "train_vocabulary = list(set(train_set))"
   ]
  },
  {
   "cell_type": "code",
   "execution_count": 12,
   "metadata": {
    "colab": {
     "base_uri": "https://localhost:8080/"
    },
    "id": "ex3hPAQAY0VZ",
    "outputId": "17d0f4c8-cceb-4eb0-e51d-b209bf99691e"
   },
   "outputs": [
    {
     "name": "stdout",
     "output_type": "stream",
     "text": [
      "Total TrainSet: 1294312\n",
      "Total Vocabulary: 81865\n",
      "TrainSet UNK: 133954\n"
     ]
    }
   ],
   "source": [
    "print('Total TrainSet: %d' % len(train_set))\n",
    "print('Total Vocabulary: %d' % len(set(train_vocabulary)))\n",
    "print(f\"TrainSet UNK: {train_set.count('UNK')}\")"
   ]
  },
  {
   "cell_type": "code",
   "execution_count": 13,
   "metadata": {
    "id": "3ewu34llIZxf"
   },
   "outputs": [],
   "source": [
    "# Create word-index mapping vocabulary for constructing context\n",
    "train_word_to_index={train_word: i for i, train_word in enumerate(train_vocabulary)}"
   ]
  },
  {
   "cell_type": "code",
   "execution_count": 14,
   "metadata": {
    "id": "fvmx-5q-e9LA"
   },
   "outputs": [],
   "source": [
    "# Build the trigrams from the list of training set\n",
    "def buid_trigrams(train_words, word_to_index) :\n",
    "  trigrams=[]\n",
    "  torch_trigrams_input=[]\n",
    "  torch_trigrams_output=[]\n",
    "  \n",
    "  for index, sentence in enumerate(train_words) :\n",
    "    for i in range (len(train_words[index])-2):\n",
    "      context=[]\n",
    "      # Create trigram\n",
    "      trigrams.append(([train_words[index][i],train_words[index][i+1]],train_words[index][i+2]))\n",
    "      # Build context\n",
    "      context.append(word_to_index[train_words[index][i]])\n",
    "      context.append(word_to_index[train_words[index][i+1]])\n",
    "      target = word_to_index[train_words[index][i+2]]\n",
    "      \n",
    "      # Prepare input and output tensors for torch dataset\n",
    "      torch_trigrams_input.append(torch.tensor(context,dtype=torch.long,device=device))\n",
    "      torch_trigrams_output.append(torch.tensor([target],dtype=torch.long,device=device))\n",
    "\n",
    "  return (torch_trigrams_input, torch_trigrams_output)"
   ]
  },
  {
   "cell_type": "code",
   "execution_count": 15,
   "metadata": {
    "id": "ZPGpJZjgOZFK"
   },
   "outputs": [],
   "source": [
    "torch_train_trigrams_input, torch_train_trigrams_output = buid_trigrams(train_words, train_word_to_index)"
   ]
  },
  {
   "cell_type": "code",
   "execution_count": 16,
   "metadata": {
    "colab": {
     "base_uri": "https://localhost:8080/"
    },
    "id": "l38X6ISB5iQm",
    "outputId": "a4f665af-b0b3-4b4a-929b-bd72e7b4ea12"
   },
   "outputs": [
    {
     "name": "stdout",
     "output_type": "stream",
     "text": [
      "tensor([39089, 34048], device='cuda:0')\n"
     ]
    }
   ],
   "source": [
    "print(torch_train_trigrams_input[0])"
   ]
  },
  {
   "cell_type": "code",
   "execution_count": 17,
   "metadata": {
    "colab": {
     "base_uri": "https://localhost:8080/"
    },
    "id": "XUNXwKsAlhtm",
    "outputId": "a363ee11-78b9-42fc-ae28-c8319a294671"
   },
   "outputs": [
    {
     "name": "stdout",
     "output_type": "stream",
     "text": [
      "[tensor([39089, 34048], device='cuda:0'), tensor([34048, 76221], device='cuda:0'), tensor([76221,  8030], device='cuda:0')]\n",
      "[tensor([76221], device='cuda:0'), tensor([8030], device='cuda:0'), tensor([72977], device='cuda:0')]\n"
     ]
    }
   ],
   "source": [
    "# Verify tensors are created\n",
    "print(torch_train_trigrams_input[:3])\n",
    "print(torch_train_trigrams_output[:3])"
   ]
  },
  {
   "cell_type": "code",
   "execution_count": 18,
   "metadata": {
    "id": "T-5cE7xATJit"
   },
   "outputs": [],
   "source": [
    "CONTEXT_SIZE = 2 \n",
    "EMBEDDING_DIM = 192 \n",
    "HIDDEN_DIM = 360 \n",
    "LEARNING_RATE = 0.01 #0.1 SGD learning rate\n",
    "if optimizer_choice == '2': # Adam learning rate\n",
    "  LEARNING_RATE = 0.001\n",
    "EPOCHS = 20\n",
    "BATCH_SIZE = 256\n",
    "DROPOUT_RATE = 0.3\n",
    "LOG_INTERVAL = 200"
   ]
  },
  {
   "cell_type": "code",
   "execution_count": 19,
   "metadata": {
    "id": "xUx9mcSpPvUJ"
   },
   "outputs": [],
   "source": [
    "# Define Feedforward Neural Network Language Model consisting of\n",
    "# 1.Input,\n",
    "# 2.Projection layer,\n",
    "# 3.Hidden layer\n",
    "# 4.Output layer.\n",
    "class FFNNLM(nn.Module):\n",
    "  def __init__(self, vocabulary_size, embedding_dim, context_size):\n",
    "    super(FFNNLM,self).__init__()\n",
    "    self.embeddings = nn.Embedding(vocabulary_size, embedding_dim)\n",
    "    self.linear1 = nn.Linear(context_size * embedding_dim * BATCH_SIZE, HIDDEN_DIM)\n",
    "    self.linear2 = nn.Linear(HIDDEN_DIM, vocabulary_size)\n",
    "    self.dropout = nn.Dropout(DROPOUT_RATE)\n",
    "\n",
    "  def forward(self, inputs):\n",
    "    # Using Dropout for Projection and Hidden layer\n",
    "    # Prepare embeddings of projection layer for next layer's input\n",
    "    embeddings = self.dropout(self.embeddings(inputs).view((1,-1)))\n",
    "    # Use RelU activation function for output of hidden layer to be used on next layer\n",
    "    out = self.dropout(F.relu(self.linear1(embeddings)))\n",
    "    # Output layer\n",
    "    out = self.linear2(out)\n",
    "    # Compute log probabilities from the output layer\n",
    "    log_probs = F.log_softmax(out, dim=1) \n",
    "    \n",
    "    return log_probs"
   ]
  },
  {
   "cell_type": "code",
   "execution_count": 20,
   "metadata": {
    "id": "o_VWnw0iTwno"
   },
   "outputs": [],
   "source": [
    "# Defines the language model from FFNNLM\n",
    "def createLanguageModel():\n",
    "  global losses \n",
    "  losses = []\n",
    "  global lossFunction \n",
    "  #Negative Log likelihood loss\n",
    "  lossFunction = nn.NLLLoss() \n",
    "  global language_model \n",
    "  # Initialize the language model\n",
    "  language_model = FFNNLM(len(train_vocabulary), EMBEDDING_DIM, CONTEXT_SIZE) \n",
    "  global optimizer\n",
    "  # Add Stochastic gradient descent optimizer\n",
    "  if (optimizer_choice == '2'): \n",
    "    optimizer = optim.AdamW(language_model.parameters())\n",
    "  else : # Default is SGD if user did not make choice\n",
    "    optimizer = optim.SGD(language_model.parameters(),lr=LEARNING_RATE, momentum=0.9, nesterov=True)\n",
    "    # Use learning rate scheduler\n",
    "    global scheduler\n",
    "    # step_size-Period of learning rate decay \n",
    "    # gamma-Multiplicative factor of learning rate decay\n",
    "    scheduler = StepLR(optimizer, step_size=1, gamma=0.2)\n",
    "\n",
    "  language_model = language_model.to(device)"
   ]
  },
  {
   "cell_type": "code",
   "execution_count": 21,
   "metadata": {
    "colab": {
     "base_uri": "https://localhost:8080/"
    },
    "id": "TAUv0z5yUoPy",
    "outputId": "597e85ab-54ee-41fe-a6b4-38c43c79b6d3"
   },
   "outputs": [
    {
     "name": "stdout",
     "output_type": "stream",
     "text": [
      "FFNNLM(\n",
      "  (embeddings): Embedding(81865, 192)\n",
      "  (linear1): Linear(in_features=98304, out_features=360, bias=True)\n",
      "  (linear2): Linear(in_features=360, out_features=81865, bias=True)\n",
      "  (dropout): Dropout(p=0.3, inplace=False)\n",
      ")\n"
     ]
    }
   ],
   "source": [
    "# Call the function to create the language model\n",
    "createLanguageModel()\n",
    "# Print the structure of the language model\n",
    "print(language_model)"
   ]
  },
  {
   "cell_type": "code",
   "execution_count": 22,
   "metadata": {
    "id": "gkIOFlKzU_xd"
   },
   "outputs": [],
   "source": [
    "# Create a custom Dataset to be managed in DataLoader\n",
    "class Dataset(data.Dataset):\n",
    "    #constructor\n",
    "    def __init__(self, list_IDs, labels ):\n",
    "        self.labels = labels\n",
    "        self.list_IDs = list_IDs\n",
    "\n",
    "    def __len__(self):\n",
    "        return len(self.list_IDs)\n",
    "\n",
    "    def __getitem__(self, index):\n",
    "        context = self.list_IDs[index]\n",
    "        target = self.labels[index]\n",
    "\n",
    "        return context,target"
   ]
  },
  {
   "cell_type": "code",
   "execution_count": 23,
   "metadata": {
    "id": "0v4Agk_CVorX"
   },
   "outputs": [],
   "source": [
    "# Initialize custom Dataset class to load train tensor data into batches\n",
    "training_set = Dataset(torch_train_trigrams_input, torch_train_trigrams_output)\n",
    "training_loader = torch.utils.data.DataLoader(training_set,batch_size = BATCH_SIZE)"
   ]
  },
  {
   "cell_type": "code",
   "execution_count": 24,
   "metadata": {
    "colab": {
     "base_uri": "https://localhost:8080/"
    },
    "id": "rNS5TO3AXHOX",
    "outputId": "1a3ab662-c652-49db-80e2-a07ff9a0a5c2"
   },
   "outputs": [
    {
     "name": "stdout",
     "output_type": "stream",
     "text": [
      "Length of training set: 1110370\n",
      "Length of first batch: 4338\n",
      "First trigram: (tensor([39089, 34048], device='cuda:0'), tensor([76221], device='cuda:0'))\n"
     ]
    }
   ],
   "source": [
    "# Check lenght of train set and first batch\n",
    "print(f\"Length of training set: {len(training_set)}\")\n",
    "print(f\"Length of first batch: {len(training_loader)}\")\n",
    "# Test the first trigram in the train set\n",
    "print(f\"First trigram: {next(iter(training_set))}\")"
   ]
  },
  {
   "cell_type": "code",
   "execution_count": 25,
   "metadata": {
    "id": "oec7enLIXPFJ"
   },
   "outputs": [],
   "source": [
    "# Prepare validation dataset the same as train above\n",
    "valid_sentence = clean_data(valid_document)\n",
    "# Handle unknown words\n",
    "valid_words, valid_set, valid_words_dict = unknownWords(valid_sentence)\n",
    "# Create training vocabulary\n",
    "valid_vocabulary = list(set(valid_set))"
   ]
  },
  {
   "cell_type": "code",
   "execution_count": 26,
   "metadata": {
    "colab": {
     "base_uri": "https://localhost:8080/"
    },
    "id": "q8es-uEBaul1",
    "outputId": "ae69bae1-9c33-4079-fa8e-4dee38536de3"
   },
   "outputs": [
    {
     "name": "stdout",
     "output_type": "stream",
     "text": [
      "Total ValidSet: 107328\n",
      "Total Vocabulary: 9735\n",
      "ValidSet UNK: 14212\n"
     ]
    }
   ],
   "source": [
    "print('Total ValidSet: %d' % len(valid_set))\n",
    "print('Total Vocabulary: %d' % len(set(valid_vocabulary)))\n",
    "print(f\"ValidSet UNK: {valid_set.count('UNK')}\")"
   ]
  },
  {
   "cell_type": "code",
   "execution_count": 27,
   "metadata": {
    "id": "zVzl_VdubWqV"
   },
   "outputs": [],
   "source": [
    "# Create word-index mapping vocabulary for constructing context\n",
    "valid_word_to_index={valid_word: i for i, valid_word in enumerate(valid_vocabulary)}"
   ]
  },
  {
   "cell_type": "code",
   "execution_count": 28,
   "metadata": {
    "id": "NfBCZ8hub36M"
   },
   "outputs": [],
   "source": [
    "# Build the trigrams\n",
    "torch_valid_trigrams_input, torch_valid_trigrams_output = buid_trigrams(valid_words, valid_word_to_index)"
   ]
  },
  {
   "cell_type": "code",
   "execution_count": 29,
   "metadata": {
    "colab": {
     "base_uri": "https://localhost:8080/"
    },
    "id": "Lz0QivyacG7q",
    "outputId": "171a53f3-6676-4055-b3d7-23c70954e008"
   },
   "outputs": [
    {
     "name": "stdout",
     "output_type": "stream",
     "text": [
      "[tensor([2549, 5068], device='cuda:0'), tensor([5068, 9218], device='cuda:0'), tensor([9218, 9218], device='cuda:0')]\n",
      "[tensor([9218], device='cuda:0'), tensor([9218], device='cuda:0'), tensor([8362], device='cuda:0')]\n"
     ]
    }
   ],
   "source": [
    "# Verify trigram tensors are created\n",
    "print(torch_valid_trigrams_input[:3])\n",
    "print(torch_valid_trigrams_output[:3])"
   ]
  },
  {
   "cell_type": "code",
   "execution_count": 30,
   "metadata": {
    "id": "M7JmgQ35c2b0"
   },
   "outputs": [],
   "source": [
    "# Initialize custom Dataset class to load validation tensor data into batches\n",
    "validation_set = Dataset(torch_valid_trigrams_input, torch_valid_trigrams_output)\n",
    "validation_loader = torch.utils.data.DataLoader(validation_set,batch_size = BATCH_SIZE)"
   ]
  },
  {
   "cell_type": "code",
   "execution_count": 31,
   "metadata": {
    "colab": {
     "base_uri": "https://localhost:8080/"
    },
    "id": "9-ocl5Icdfv6",
    "outputId": "e8ceff84-be5f-42aa-be58-7d4982beb609"
   },
   "outputs": [
    {
     "name": "stdout",
     "output_type": "stream",
     "text": [
      "Length of validation set: 97274\n",
      "Length of first batch: 380\n",
      "Validation First trigram: (tensor([2549, 5068], device='cuda:0'), tensor([9218], device='cuda:0'))\n"
     ]
    }
   ],
   "source": [
    "# Check lenght of validation set and first batch\n",
    "print(f\"Length of validation set: {len(validation_set)}\")\n",
    "print(f\"Length of first batch: {len(validation_loader)}\")\n",
    "# Test the first trigram in the train set\n",
    "print(f\"Validation First trigram: {next(iter(validation_set))}\")"
   ]
  },
  {
   "cell_type": "code",
   "execution_count": 32,
   "metadata": {
    "id": "59sGDCf8dp2B"
   },
   "outputs": [],
   "source": [
    "# Prepare Test dataset the same as travalidationin above\n",
    "test_sentence = clean_data(test_document)\n",
    "# Handle unknown words\n",
    "test_words, test_set, test_words_dict = unknownWords(test_sentence)\n",
    "# Create training vocabulary\n",
    "test_vocabulary = list(set(test_set))"
   ]
  },
  {
   "cell_type": "code",
   "execution_count": 33,
   "metadata": {
    "colab": {
     "base_uri": "https://localhost:8080/"
    },
    "id": "IAqRC5dpilBJ",
    "outputId": "ce367e3e-272a-46be-f37d-0c72b512dbc6"
   },
   "outputs": [
    {
     "name": "stdout",
     "output_type": "stream",
     "text": [
      "Total TestSet: 81904\n",
      "Total Vocabulary: 8947\n",
      "TestSet UNK: 16431\n"
     ]
    }
   ],
   "source": [
    "print('Total TestSet: %d' % len(test_set))\n",
    "print('Total Vocabulary: %d' % len(set(test_vocabulary)))\n",
    "print(f\"TestSet UNK: {test_set.count('UNK')}\")"
   ]
  },
  {
   "cell_type": "code",
   "execution_count": 34,
   "metadata": {
    "id": "rhpTb2-si6ak"
   },
   "outputs": [],
   "source": [
    "# Create word-index mapping vocabulary for constructing context\n",
    "test_word_to_index={test_word: i for i, test_word in enumerate(test_vocabulary)}"
   ]
  },
  {
   "cell_type": "code",
   "execution_count": 35,
   "metadata": {
    "id": "KgwJtAk-jDSL"
   },
   "outputs": [],
   "source": [
    "# Build the trigrams\n",
    "torch_test_trigrams_input, torch_test_trigrams_output = buid_trigrams(test_words, test_word_to_index)"
   ]
  },
  {
   "cell_type": "code",
   "execution_count": 36,
   "metadata": {
    "colab": {
     "base_uri": "https://localhost:8080/"
    },
    "id": "uVLkyaYhjMli",
    "outputId": "bcf5acbb-0dd1-4752-ff61-4eee86d05890"
   },
   "outputs": [
    {
     "name": "stdout",
     "output_type": "stream",
     "text": [
      "[tensor([4692, 4643], device='cuda:0'), tensor([4643, 3729], device='cuda:0'), tensor([3729, 1178], device='cuda:0')]\n",
      "[tensor([3729], device='cuda:0'), tensor([1178], device='cuda:0'), tensor([8495], device='cuda:0')]\n"
     ]
    }
   ],
   "source": [
    "# Verify trigram tensors are created\n",
    "print(torch_test_trigrams_input[:3])\n",
    "print(torch_test_trigrams_output[:3])"
   ]
  },
  {
   "cell_type": "code",
   "execution_count": 37,
   "metadata": {
    "id": "EqaPmGarjVXy"
   },
   "outputs": [],
   "source": [
    "# Initialize custom Dataset class to load test tensor data into batches\n",
    "testing_set = Dataset(torch_test_trigrams_input, torch_test_trigrams_output)\n",
    "testing_loader = torch.utils.data.DataLoader(testing_set,batch_size = BATCH_SIZE)"
   ]
  },
  {
   "cell_type": "code",
   "execution_count": 38,
   "metadata": {
    "colab": {
     "base_uri": "https://localhost:8080/"
    },
    "id": "AVrrRtJojlCh",
    "outputId": "544442fc-7638-4756-c3c9-f75634888aab"
   },
   "outputs": [
    {
     "name": "stdout",
     "output_type": "stream",
     "text": [
      "Length of Testing set: 71832\n",
      "Length of first batch: 281\n",
      "Testing First trigram: (tensor([4692, 4643], device='cuda:0'), tensor([3729], device='cuda:0'))\n"
     ]
    }
   ],
   "source": [
    "# Check lenght of validation set and first batch\n",
    "print(f\"Length of Testing set: {len(testing_set)}\")\n",
    "print(f\"Length of first batch: {len(testing_loader)}\")\n",
    "# Test the first trigram in the train set\n",
    "print(f\"Testing First trigram: {next(iter(testing_set))}\")"
   ]
  },
  {
   "cell_type": "code",
   "execution_count": 39,
   "metadata": {
    "id": "D-yTXp9M2L6u"
   },
   "outputs": [],
   "source": [
    "# Create a log file for model training\n",
    "global file\n",
    "file = open(\"log_file.txt\", \"w\")\n",
    "\n",
    "# Variables for ploting the graph\n",
    "global x_epoch\n",
    "global epoch_train_loss\n",
    "global validation_loss\n",
    "x_epoch = []\n",
    "epoch_train_loss = []\n",
    "validation_loss = []"
   ]
  },
  {
   "cell_type": "code",
   "execution_count": 40,
   "metadata": {
    "id": "aHKx4yZmh8ez"
   },
   "outputs": [],
   "source": [
    "# Train the model and run validation after each epoch\n",
    "def training(epoch):\n",
    "    # Update learning rate\n",
    "    global LEARNING_RATE\n",
    "    if optimizer_choice == '1':\n",
    "      LEARNING_RATE = scheduler.get_last_lr()\n",
    "      LEARNING_RATE = LEARNING_RATE[0]\n",
    "    else:\n",
    "      LEARNING_RATE = optimizer.param_groups[0][\"lr\"]\n",
    "\n",
    "    # Set the model in training mode using test set\n",
    "    language_model.train()\n",
    "    print(\"Start Training\")\n",
    "    file.write(\"\\n\")\n",
    "    file.write(\"Start Training\")\n",
    "    file.write(\"\\n\")\n",
    "\n",
    "    global epoch_train_loss\n",
    "    accum_train_loss = 0\n",
    "\n",
    "    total_loss = 0\n",
    "    one_batch_count = 0\n",
    "    batch_loss = 0\n",
    "    batch_time = 0\n",
    "    for local_batch,local_target in training_loader:\n",
    "      if(len(local_batch)==BATCH_SIZE):\n",
    "        before_time = time.time()\n",
    "        local_loss = 0\n",
    "\n",
    "        loc_batch, loc_target = local_batch.to(device), local_target.to(device)\n",
    "\n",
    "        # Sets gradients of model parameters to zero, needs to be done for each epoch\n",
    "        language_model.zero_grad()\n",
    "        # Run forward pass and generates the log probabilities\n",
    "        log_probs = language_model(loc_batch)\n",
    "        \n",
    "        local_target = local_target.view(BATCH_SIZE, -1)\n",
    "        loss = lossFunction(log_probs, loc_target[len(loc_target)-1])\n",
    "        \n",
    "        #Backpropogation algorithm to update the gradients\n",
    "        loss.backward() \n",
    "        # Update weights\n",
    "        optimizer.step()\n",
    "\n",
    "        local_loss += loss.item()\n",
    "        \n",
    "        after_time = time.time()\n",
    "        batch_time += (after_time - before_time)\n",
    "\n",
    "        local_loss_out = local_loss\n",
    "        batch_loss += local_loss_out\n",
    "        total_loss += local_loss_out\n",
    "\n",
    "        accum_train_loss += local_loss * len(local_batch)\n",
    "\n",
    "        one_batch_count += 1\n",
    "\n",
    "        if (one_batch_count % LOG_INTERVAL == 0):\n",
    "          curr_loss = batch_loss / LOG_INTERVAL\n",
    "          print('| epoch {:3d} | {:4d}/{:4d} batches | lr {:02.6f} | ms/batch {:5.2f} | ''loss {:5.4f} | ppl {:8.2f}'.\n",
    "                format(\n",
    "                  epoch, one_batch_count, len(training_loader) // 1, LEARNING_RATE,\n",
    "                  batch_time/LOG_INTERVAL*1000, curr_loss, math.exp(curr_loss))\n",
    "                )\n",
    "          file.write('| epoch {:3d} | {:4d}/{:4d} batches | lr {:02.5f} | ms/batch {:5.2f} | ''loss {:5.4f} | ppl {:8.2f}'.\n",
    "                format(\n",
    "                  epoch, one_batch_count, len(training_loader) // 1, LEARNING_RATE,\n",
    "                  batch_time/LOG_INTERVAL*1000, curr_loss, math.exp(curr_loss))\n",
    "                )\n",
    "          file.write(\"\\n\")\n",
    "          batch_loss = 0\n",
    "          batch_time = 0\n",
    "\n",
    "    # Decay Learning Rate\n",
    "    if optimizer_choice == '1':\n",
    "      scheduler.step()\n",
    "\n",
    "    epoch_train_loss.append(accum_train_loss)"
   ]
  },
  {
   "cell_type": "code",
   "execution_count": 41,
   "metadata": {
    "id": "Q1O5KvDUh6eY"
   },
   "outputs": [],
   "source": [
    "# Define the validation method used during training to validate the learning process\n",
    "# calculate loss and updates gradients\n",
    "def validation(epoch,train_time):\n",
    "  # Set the model in evaluation mode using validation set\n",
    "  language_model.eval()\n",
    "\n",
    "  global validation_loss\n",
    "  accum_validation_loss = 0\n",
    "  \n",
    "  total_loss = 0\n",
    "  one_batch_count = 0\n",
    "  batch_loss = 0\n",
    "  # Turn-off gradients calculations\n",
    "  with torch.set_grad_enabled(False):\n",
    "    for local_batch,local_target in validation_loader:\n",
    "      if(len(local_batch)==BATCH_SIZE):\n",
    "        local_loss=0\n",
    "        loc_batch, loc_target = local_batch.to(device), local_target.to(device)\n",
    "\n",
    "        # Run forward pass and generates the log probabilities\n",
    "        log_probs = language_model(loc_batch)\n",
    "\n",
    "        local_target = local_target.view(BATCH_SIZE, -1)\n",
    "        # Calculate loss based on what was predicted and what the next word is\n",
    "        loss = lossFunction(log_probs, loc_target[len(loc_target)-1])\n",
    "\n",
    "        local_loss += loss.item()\n",
    "        \n",
    "        local_loss_out = local_loss\n",
    "        batch_loss += local_loss_out\n",
    "        total_loss += local_loss_out\n",
    "\n",
    "        accum_validation_loss += local_loss * len(local_batch)\n",
    "\n",
    "        one_batch_count += 1\n",
    "\n",
    "        curr_loss = batch_loss/one_batch_count\n",
    "\n",
    "  file.write(\"-----------------------------------------------------------------------------------------\")\n",
    "  file.write(\"\\n\")\n",
    "  print('-----------------------------------------------------------------------------------------')\n",
    "  print('|end of epoch {:3d} | time {:5.2f}s| ''valid loss {:5.4f} | valid ppl {:8.2f}'.format(\n",
    "      epoch,train_time, curr_loss, math.exp(curr_loss))\n",
    "      )\n",
    "  file.write('|end of epoch {:3d} | time {:5.2f}s| ''valid loss {:5.4f} | valid ppl {:8.2f}'.format(\n",
    "      epoch,train_time, curr_loss, math.exp(curr_loss))\n",
    "      )\n",
    "  file.write(\"\\n\")\n",
    "  print('-----------------------------------------------------------------------------------------')\n",
    "  file.write(\"-----------------------------------------------------------------------------------------\")\n",
    "  batch_loss = 0\n",
    "  validation_loss.append(accum_validation_loss)"
   ]
  },
  {
   "cell_type": "code",
   "execution_count": 42,
   "metadata": {
    "id": "UYEhWT8dTr3F"
   },
   "outputs": [],
   "source": [
    "def testing(epoch = 0):\n",
    "  # Set the model in evaluation mode using testing set\n",
    "  language_model.eval()\n",
    "\n",
    "  total_loss = 0\n",
    "  one_batch_count = 0\n",
    "  batch_loss = 0\n",
    "  with torch.set_grad_enabled(False):\n",
    "      for local_batch,local_target in testing_loader:\n",
    "          if(len(local_batch)==BATCH_SIZE):\n",
    "              local_loss=0\n",
    "              loc_batch, loc_target = local_batch.to(device), local_target.to(device)\n",
    "\n",
    "              # Run forward pass and generates the log probabilities\n",
    "              log_probs = language_model(loc_batch)\n",
    "\n",
    "              local_target = local_target.view(BATCH_SIZE, -1)\n",
    "              # Calculate loss based on what was predicted and what the next word is\n",
    "              loss = lossFunction(log_probs, loc_target[len(loc_target)-1])\n",
    "\n",
    "              local_loss += loss.item()\n",
    "\n",
    "\n",
    "              local_loss_out = local_loss\n",
    "              batch_loss += local_loss_out\n",
    "              total_loss += local_loss_out\n",
    "              one_batch_count += 1\n",
    "\n",
    "              curr_loss = batch_loss/one_batch_count\n",
    "\n",
    "  file.write('========================================================================================')\n",
    "  file.write(\"\\n\")\n",
    "  print('========================================================================================')\n",
    "  print('|End of training | test loss {:5.4f} | test ppl {:8.2f}'.format(\n",
    "      curr_loss, math.exp(curr_loss))\n",
    "      )\n",
    "  file.write('|End of training | test loss {:5.4f} | test ppl {:8.2f}'.format(\n",
    "    curr_loss, math.exp(curr_loss))\n",
    "    )\n",
    "  file.write(\"\\n\")\n",
    "  print('========================================================================================')\n",
    "  file.write('========================================================================================')\n",
    "  file.write(\"\\n\")\n",
    "\n",
    "  batch_loss = 0"
   ]
  },
  {
   "cell_type": "code",
   "execution_count": 43,
   "metadata": {
    "id": "DBCYe3DwovsI"
   },
   "outputs": [],
   "source": [
    "def draw_curve(epoch, train_loss, val_loss):\n",
    "  print(f\"x: {epoch}\")\n",
    "  print(f\"train: {train_loss}\")\n",
    "  print(f\"val: {val_loss}\")\n",
    "\n",
    "  x1_epoch = epoch \n",
    "  plt.plot(np.array(x1_epoch), np.array(train_loss), label='train')\n",
    "  x2_epoch = epoch\n",
    "  plt.plot(np.array(x2_epoch), np.array(val_loss), label='validation')\n",
    "  \n",
    "  plt.xlabel(\"Epoch\")\n",
    "  plt.ylabel(\"Average Loss\")\n",
    "  # Set a title of the current axes.\n",
    "  plt.title('Average Train and Validation Loss per Epoch')\n",
    "  # show a legend on the plot\n",
    "  plt.legend()\n",
    "  plt.show()"
   ]
  },
  {
   "cell_type": "code",
   "execution_count": 49,
   "metadata": {
    "id": "srlrEIUcOGl4"
   },
   "outputs": [],
   "source": [
    "def draw_train_curve(epoch, val_loss):\n",
    "    plt.plot(np.array(epoch), np.array(val_loss), label='train')\n",
    "\n",
    "    plt.xlabel(\"Epoch\")\n",
    "    plt.ylabel(\"Average Loss\")\n",
    "    # Set a title of the current axes.\n",
    "    plt.title('Average Train Loss per Epoch')\n",
    "    # show a legend on the plot\n",
    "    plt.legend()\n",
    "    plt.show()"
   ]
  },
  {
   "cell_type": "code",
   "execution_count": 50,
   "metadata": {
    "id": "-L9jLs9_OHno"
   },
   "outputs": [],
   "source": [
    "def draw_val_curve(epoch, train_loss):\n",
    "    plt.plot(np.array(epoch), np.array(train_loss), label='validation')\n",
    "\n",
    "    plt.xlabel(\"Epoch\")\n",
    "    plt.ylabel(\"Average Loss\")\n",
    "    # Set a title of the current axes.\n",
    "    plt.title('Average Validation Loss per Epoch')\n",
    "    # show a legend on the plot\n",
    "    plt.legend()\n",
    "    plt.show()"
   ]
  },
  {
   "cell_type": "code",
   "execution_count": 44,
   "metadata": {
    "colab": {
     "base_uri": "https://localhost:8080/"
    },
    "id": "8iKvHMdfY1sC",
    "outputId": "97fcae34-1aa9-43de-ea4e-1007f821178c"
   },
   "outputs": [
    {
     "name": "stdout",
     "output_type": "stream",
     "text": [
      "Start Training\n",
      "| epoch   0 |  200/4338 batches | lr 0.001000 | ms/batch 52.23 | loss 13.2437 | ppl 564528.10\n",
      "| epoch   0 |  400/4338 batches | lr 0.001000 | ms/batch 38.61 | loss 12.8769 | ppl 391172.01\n",
      "| epoch   0 |  600/4338 batches | lr 0.001000 | ms/batch 38.64 | loss 11.1749 | ppl 71315.07\n",
      "| epoch   0 |  800/4338 batches | lr 0.001000 | ms/batch 38.53 | loss 11.3060 | ppl 81311.98\n",
      "| epoch   0 | 1000/4338 batches | lr 0.001000 | ms/batch 38.50 | loss 15.3129 | ppl 4469786.34\n",
      "| epoch   0 | 1200/4338 batches | lr 0.001000 | ms/batch 38.46 | loss 11.8691 | ppl 142780.36\n",
      "| epoch   0 | 1400/4338 batches | lr 0.001000 | ms/batch 38.44 | loss 12.2865 | ppl 216745.04\n",
      "| epoch   0 | 1600/4338 batches | lr 0.001000 | ms/batch 38.40 | loss 12.5791 | ppl 290421.93\n",
      "| epoch   0 | 1800/4338 batches | lr 0.001000 | ms/batch 38.36 | loss 11.2289 | ppl 75274.38\n",
      "| epoch   0 | 2000/4338 batches | lr 0.001000 | ms/batch 38.35 | loss 11.0309 | ppl 61754.75\n",
      "| epoch   0 | 2200/4338 batches | lr 0.001000 | ms/batch 38.35 | loss 10.9023 | ppl 54300.92\n",
      "| epoch   0 | 2400/4338 batches | lr 0.001000 | ms/batch 38.37 | loss 11.5256 | ppl 101278.79\n",
      "| epoch   0 | 2600/4338 batches | lr 0.001000 | ms/batch 38.39 | loss 10.9969 | ppl 59686.16\n",
      "| epoch   0 | 2800/4338 batches | lr 0.001000 | ms/batch 38.40 | loss 10.7383 | ppl 46086.63\n",
      "| epoch   0 | 3000/4338 batches | lr 0.001000 | ms/batch 38.40 | loss 10.7622 | ppl 47202.91\n",
      "| epoch   0 | 3200/4338 batches | lr 0.001000 | ms/batch 38.40 | loss 12.1579 | ppl 190600.39\n",
      "| epoch   0 | 3400/4338 batches | lr 0.001000 | ms/batch 38.41 | loss 10.9045 | ppl 54421.95\n",
      "| epoch   0 | 3600/4338 batches | lr 0.001000 | ms/batch 38.42 | loss 11.2082 | ppl 73735.77\n",
      "| epoch   0 | 3800/4338 batches | lr 0.001000 | ms/batch 38.37 | loss 10.8875 | ppl 53504.43\n",
      "| epoch   0 | 4000/4338 batches | lr 0.001000 | ms/batch 38.37 | loss 10.5771 | ppl 39227.05\n",
      "| epoch   0 | 4200/4338 batches | lr 0.001000 | ms/batch 38.37 | loss 10.6904 | ppl 43930.31\n",
      "-----------------------------------------------------------------------------------------\n",
      "|end of epoch   0 | time 171.99s| valid loss 79.5676 | valid ppl 35954809440084280326405821416079360.00\n",
      "-----------------------------------------------------------------------------------------\n",
      "Start Training\n",
      "| epoch   1 |  200/4338 batches | lr 0.001000 | ms/batch 38.36 | loss 0.8233 | ppl     2.28\n",
      "| epoch   1 |  400/4338 batches | lr 0.001000 | ms/batch 38.36 | loss 1.9034 | ppl     6.71\n",
      "| epoch   1 |  600/4338 batches | lr 0.001000 | ms/batch 38.37 | loss 7.4619 | ppl  1740.43\n",
      "| epoch   1 |  800/4338 batches | lr 0.001000 | ms/batch 38.41 | loss 8.5505 | ppl  5169.15\n",
      "| epoch   1 | 1000/4338 batches | lr 0.001000 | ms/batch 38.38 | loss 6.1268 | ppl   457.98\n",
      "| epoch   1 | 1200/4338 batches | lr 0.001000 | ms/batch 38.38 | loss 9.8607 | ppl 19162.29\n",
      "| epoch   1 | 1400/4338 batches | lr 0.001000 | ms/batch 38.37 | loss 11.6429 | ppl 113879.44\n",
      "| epoch   1 | 1600/4338 batches | lr 0.001000 | ms/batch 38.39 | loss 10.2569 | ppl 28477.51\n",
      "| epoch   1 | 1800/4338 batches | lr 0.001000 | ms/batch 38.38 | loss 10.2376 | ppl 27935.28\n",
      "| epoch   1 | 2000/4338 batches | lr 0.001000 | ms/batch 38.38 | loss 9.4333 | ppl 12497.34\n",
      "| epoch   1 | 2200/4338 batches | lr 0.001000 | ms/batch 38.38 | loss 8.8885 | ppl  7247.91\n",
      "| epoch   1 | 2400/4338 batches | lr 0.001000 | ms/batch 38.41 | loss 11.5845 | ppl 107421.14\n",
      "| epoch   1 | 2600/4338 batches | lr 0.001000 | ms/batch 38.38 | loss 9.3244 | ppl 11208.09\n",
      "| epoch   1 | 2800/4338 batches | lr 0.001000 | ms/batch 38.39 | loss 9.1024 | ppl  8977.24\n",
      "| epoch   1 | 3000/4338 batches | lr 0.001000 | ms/batch 38.39 | loss 9.2153 | ppl 10049.41\n",
      "| epoch   1 | 3200/4338 batches | lr 0.001000 | ms/batch 38.39 | loss 12.3457 | ppl 229974.82\n",
      "| epoch   1 | 3400/4338 batches | lr 0.001000 | ms/batch 38.39 | loss 12.0860 | ppl 177362.79\n",
      "| epoch   1 | 3600/4338 batches | lr 0.001000 | ms/batch 38.39 | loss 13.1003 | ppl 489091.63\n",
      "| epoch   1 | 3800/4338 batches | lr 0.001000 | ms/batch 38.40 | loss 11.8950 | ppl 146530.02\n",
      "| epoch   1 | 4000/4338 batches | lr 0.001000 | ms/batch 38.38 | loss 10.2569 | ppl 28479.22\n",
      "| epoch   1 | 4200/4338 batches | lr 0.001000 | ms/batch 38.38 | loss 13.0205 | ppl 451563.35\n",
      "-----------------------------------------------------------------------------------------\n",
      "|end of epoch   1 | time 169.05s| valid loss 83.3515 | valid ppl 1581609916661621383092585168807919616.00\n",
      "-----------------------------------------------------------------------------------------\n",
      "Start Training\n",
      "| epoch   2 |  200/4338 batches | lr 0.001000 | ms/batch 38.38 | loss 2.5895 | ppl    13.32\n",
      "| epoch   2 |  400/4338 batches | lr 0.001000 | ms/batch 38.37 | loss 4.2076 | ppl    67.20\n",
      "| epoch   2 |  600/4338 batches | lr 0.001000 | ms/batch 38.37 | loss 11.9070 | ppl 148304.90\n",
      "| epoch   2 |  800/4338 batches | lr 0.001000 | ms/batch 38.37 | loss 9.2299 | ppl 10197.95\n",
      "| epoch   2 | 1000/4338 batches | lr 0.001000 | ms/batch 38.37 | loss 10.5202 | ppl 37055.80\n",
      "| epoch   2 | 1200/4338 batches | lr 0.001000 | ms/batch 38.40 | loss 12.2666 | ppl 212482.45\n",
      "| epoch   2 | 1400/4338 batches | lr 0.001000 | ms/batch 38.37 | loss 12.8386 | ppl 376455.78\n",
      "| epoch   2 | 1600/4338 batches | lr 0.001000 | ms/batch 38.37 | loss 9.9112 | ppl 20154.66\n",
      "| epoch   2 | 1800/4338 batches | lr 0.001000 | ms/batch 38.38 | loss 8.4423 | ppl  4639.41\n",
      "| epoch   2 | 2000/4338 batches | lr 0.001000 | ms/batch 38.38 | loss 7.7928 | ppl  2423.20\n",
      "| epoch   2 | 2200/4338 batches | lr 0.001000 | ms/batch 38.38 | loss 8.2161 | ppl  3700.00\n",
      "| epoch   2 | 2400/4338 batches | lr 0.001000 | ms/batch 38.38 | loss 12.3487 | ppl 230655.75\n",
      "| epoch   2 | 2600/4338 batches | lr 0.001000 | ms/batch 38.39 | loss 8.9325 | ppl  7574.03\n",
      "| epoch   2 | 2800/4338 batches | lr 0.001000 | ms/batch 38.39 | loss 7.8878 | ppl  2664.63\n",
      "| epoch   2 | 3000/4338 batches | lr 0.001000 | ms/batch 38.39 | loss 8.2194 | ppl  3712.40\n",
      "| epoch   2 | 3200/4338 batches | lr 0.001000 | ms/batch 38.39 | loss 9.7480 | ppl 17120.08\n",
      "| epoch   2 | 3400/4338 batches | lr 0.001000 | ms/batch 38.40 | loss 10.3124 | ppl 30103.82\n",
      "| epoch   2 | 3600/4338 batches | lr 0.001000 | ms/batch 38.39 | loss 12.6029 | ppl 297429.51\n",
      "| epoch   2 | 3800/4338 batches | lr 0.001000 | ms/batch 38.38 | loss 9.8943 | ppl 19816.68\n",
      "| epoch   2 | 4000/4338 batches | lr 0.001000 | ms/batch 38.39 | loss 9.1248 | ppl  9180.42\n",
      "| epoch   2 | 4200/4338 batches | lr 0.001000 | ms/batch 38.39 | loss 10.3113 | ppl 30070.10\n",
      "-----------------------------------------------------------------------------------------\n",
      "|end of epoch   2 | time 169.00s| valid loss 78.7877 | valid ppl 16483933558925656872099811508092928.00\n",
      "-----------------------------------------------------------------------------------------\n",
      "Start Training\n",
      "| epoch   3 |  200/4338 batches | lr 0.001000 | ms/batch 38.37 | loss 5.8977 | ppl   364.21\n",
      "| epoch   3 |  400/4338 batches | lr 0.001000 | ms/batch 38.38 | loss 7.0320 | ppl  1132.33\n",
      "| epoch   3 |  600/4338 batches | lr 0.001000 | ms/batch 38.37 | loss 10.7478 | ppl 46528.78\n",
      "| epoch   3 |  800/4338 batches | lr 0.001000 | ms/batch 38.37 | loss 8.7002 | ppl  6003.97\n",
      "| epoch   3 | 1000/4338 batches | lr 0.001000 | ms/batch 38.38 | loss 8.1714 | ppl  3538.17\n",
      "| epoch   3 | 1200/4338 batches | lr 0.001000 | ms/batch 38.42 | loss 11.2099 | ppl 73856.98\n",
      "| epoch   3 | 1400/4338 batches | lr 0.001000 | ms/batch 38.38 | loss 10.6665 | ppl 42896.25\n",
      "| epoch   3 | 1600/4338 batches | lr 0.001000 | ms/batch 38.38 | loss 9.3557 | ppl 11564.99\n",
      "| epoch   3 | 1800/4338 batches | lr 0.001000 | ms/batch 38.38 | loss 7.5439 | ppl  1889.21\n",
      "| epoch   3 | 2000/4338 batches | lr 0.001000 | ms/batch 38.38 | loss 7.5752 | ppl  1949.19\n",
      "| epoch   3 | 2200/4338 batches | lr 0.001000 | ms/batch 38.39 | loss 8.4269 | ppl  4568.54\n",
      "| epoch   3 | 2400/4338 batches | lr 0.001000 | ms/batch 38.40 | loss 10.8918 | ppl 53736.14\n",
      "| epoch   3 | 2600/4338 batches | lr 0.001000 | ms/batch 38.39 | loss 9.2691 | ppl 10604.82\n",
      "| epoch   3 | 2800/4338 batches | lr 0.001000 | ms/batch 38.40 | loss 7.4041 | ppl  1642.76\n",
      "| epoch   3 | 3000/4338 batches | lr 0.001000 | ms/batch 38.40 | loss 7.7584 | ppl  2341.08\n",
      "| epoch   3 | 3200/4338 batches | lr 0.001000 | ms/batch 38.40 | loss 9.2613 | ppl 10522.60\n",
      "| epoch   3 | 3400/4338 batches | lr 0.001000 | ms/batch 38.40 | loss 10.9158 | ppl 55038.34\n",
      "| epoch   3 | 3600/4338 batches | lr 0.001000 | ms/batch 38.40 | loss 9.9849 | ppl 21696.43\n",
      "| epoch   3 | 3800/4338 batches | lr 0.001000 | ms/batch 38.39 | loss 10.4595 | ppl 34873.40\n",
      "| epoch   3 | 4000/4338 batches | lr 0.001000 | ms/batch 38.39 | loss 7.9523 | ppl  2842.13\n",
      "| epoch   3 | 4200/4338 batches | lr 0.001000 | ms/batch 38.39 | loss 9.8521 | ppl 18998.22\n",
      "-----------------------------------------------------------------------------------------\n",
      "|end of epoch   3 | time 169.02s| valid loss 73.1207 | valid ppl 57006469539218025369556125483008.00\n",
      "-----------------------------------------------------------------------------------------\n",
      "Start Training\n",
      "| epoch   4 |  200/4338 batches | lr 0.001000 | ms/batch 38.38 | loss 7.3291 | ppl  1524.03\n",
      "| epoch   4 |  400/4338 batches | lr 0.001000 | ms/batch 38.38 | loss 9.1562 | ppl  9473.20\n",
      "| epoch   4 |  600/4338 batches | lr 0.001000 | ms/batch 38.38 | loss 10.1756 | ppl 26255.82\n",
      "| epoch   4 |  800/4338 batches | lr 0.001000 | ms/batch 38.38 | loss 10.2836 | ppl 29250.23\n",
      "| epoch   4 | 1000/4338 batches | lr 0.001000 | ms/batch 38.37 | loss 8.6910 | ppl  5949.37\n",
      "| epoch   4 | 1200/4338 batches | lr 0.001000 | ms/batch 38.38 | loss 8.5204 | ppl  5015.90\n",
      "| epoch   4 | 1400/4338 batches | lr 0.001000 | ms/batch 38.40 | loss 10.9374 | ppl 56243.10\n",
      "| epoch   4 | 1600/4338 batches | lr 0.001000 | ms/batch 38.38 | loss 10.0639 | ppl 23479.87\n",
      "| epoch   4 | 1800/4338 batches | lr 0.001000 | ms/batch 38.39 | loss 7.7015 | ppl  2211.59\n",
      "| epoch   4 | 2000/4338 batches | lr 0.001000 | ms/batch 38.39 | loss 7.6673 | ppl  2137.35\n",
      "| epoch   4 | 2200/4338 batches | lr 0.001000 | ms/batch 38.39 | loss 6.9978 | ppl  1094.20\n",
      "| epoch   4 | 2400/4338 batches | lr 0.001000 | ms/batch 38.40 | loss 8.5782 | ppl  5314.36\n",
      "| epoch   4 | 2600/4338 batches | lr 0.001000 | ms/batch 38.40 | loss 7.5862 | ppl  1970.75\n",
      "| epoch   4 | 2800/4338 batches | lr 0.001000 | ms/batch 38.40 | loss 7.2503 | ppl  1408.46\n",
      "| epoch   4 | 3000/4338 batches | lr 0.001000 | ms/batch 38.40 | loss 7.2467 | ppl  1403.43\n",
      "| epoch   4 | 3200/4338 batches | lr 0.001000 | ms/batch 38.40 | loss 8.1832 | ppl  3580.33\n",
      "| epoch   4 | 3400/4338 batches | lr 0.001000 | ms/batch 38.40 | loss 10.3358 | ppl 30817.44\n",
      "| epoch   4 | 3600/4338 batches | lr 0.001000 | ms/batch 38.40 | loss 9.1516 | ppl  9429.12\n",
      "| epoch   4 | 3800/4338 batches | lr 0.001000 | ms/batch 38.39 | loss 8.9468 | ppl  7683.51\n",
      "| epoch   4 | 4000/4338 batches | lr 0.001000 | ms/batch 38.40 | loss 8.8910 | ppl  7266.07\n",
      "| epoch   4 | 4200/4338 batches | lr 0.001000 | ms/batch 38.40 | loss 8.9414 | ppl  7641.77\n",
      "-----------------------------------------------------------------------------------------\n",
      "|end of epoch   4 | time 169.03s| valid loss 67.3190 | valid ppl 172297893367906701946436714496.00\n",
      "-----------------------------------------------------------------------------------------\n",
      "Start Training\n",
      "| epoch   5 |  200/4338 batches | lr 0.001000 | ms/batch 38.37 | loss 6.2245 | ppl   504.97\n",
      "| epoch   5 |  400/4338 batches | lr 0.001000 | ms/batch 38.39 | loss 10.7556 | ppl 46890.43\n",
      "| epoch   5 |  600/4338 batches | lr 0.001000 | ms/batch 38.39 | loss 11.3680 | ppl 86511.85\n",
      "| epoch   5 |  800/4338 batches | lr 0.001000 | ms/batch 38.40 | loss 8.4310 | ppl  4587.18\n",
      "| epoch   5 | 1000/4338 batches | lr 0.001000 | ms/batch 38.38 | loss 9.6140 | ppl 14973.28\n",
      "| epoch   5 | 1200/4338 batches | lr 0.001000 | ms/batch 38.39 | loss 10.1677 | ppl 26048.74\n",
      "| epoch   5 | 1400/4338 batches | lr 0.001000 | ms/batch 38.40 | loss 10.0342 | ppl 22792.47\n",
      "| epoch   5 | 1600/4338 batches | lr 0.001000 | ms/batch 38.43 | loss 8.9370 | ppl  7608.49\n",
      "| epoch   5 | 1800/4338 batches | lr 0.001000 | ms/batch 38.39 | loss 6.9286 | ppl  1021.02\n",
      "| epoch   5 | 2000/4338 batches | lr 0.001000 | ms/batch 38.40 | loss 7.6222 | ppl  2042.96\n",
      "| epoch   5 | 2200/4338 batches | lr 0.001000 | ms/batch 38.41 | loss 6.8587 | ppl   952.12\n",
      "| epoch   5 | 2400/4338 batches | lr 0.001000 | ms/batch 38.40 | loss 8.1740 | ppl  3547.48\n",
      "| epoch   5 | 2600/4338 batches | lr 0.001000 | ms/batch 38.40 | loss 7.3172 | ppl  1505.92\n",
      "| epoch   5 | 2800/4338 batches | lr 0.001000 | ms/batch 38.41 | loss 7.1370 | ppl  1257.61\n",
      "| epoch   5 | 3000/4338 batches | lr 0.001000 | ms/batch 38.40 | loss 7.0630 | ppl  1167.90\n",
      "| epoch   5 | 3200/4338 batches | lr 0.001000 | ms/batch 38.40 | loss 8.1052 | ppl  3311.59\n",
      "| epoch   5 | 3400/4338 batches | lr 0.001000 | ms/batch 38.42 | loss 7.8089 | ppl  2462.54\n",
      "| epoch   5 | 3600/4338 batches | lr 0.001000 | ms/batch 38.40 | loss 8.3054 | ppl  4045.47\n",
      "| epoch   5 | 3800/4338 batches | lr 0.001000 | ms/batch 38.40 | loss 8.2725 | ppl  3914.82\n",
      "| epoch   5 | 4000/4338 batches | lr 0.001000 | ms/batch 38.40 | loss 7.6413 | ppl  2082.38\n",
      "| epoch   5 | 4200/4338 batches | lr 0.001000 | ms/batch 38.40 | loss 8.7398 | ppl  6246.87\n",
      "-----------------------------------------------------------------------------------------\n",
      "|end of epoch   5 | time 169.12s| valid loss 60.4694 | valid ppl 182618726592379272910864384.00\n",
      "-----------------------------------------------------------------------------------------\n",
      "Start Training\n",
      "| epoch   6 |  200/4338 batches | lr 0.001000 | ms/batch 38.38 | loss 6.8915 | ppl   983.84\n",
      "| epoch   6 |  400/4338 batches | lr 0.001000 | ms/batch 38.39 | loss 10.9823 | ppl 58824.34\n",
      "| epoch   6 |  600/4338 batches | lr 0.001000 | ms/batch 38.39 | loss 9.6851 | ppl 16077.05\n",
      "| epoch   6 |  800/4338 batches | lr 0.001000 | ms/batch 38.38 | loss 8.7894 | ppl  6564.31\n",
      "| epoch   6 | 1000/4338 batches | lr 0.001000 | ms/batch 38.40 | loss 8.5245 | ppl  5036.91\n",
      "| epoch   6 | 1200/4338 batches | lr 0.001000 | ms/batch 38.38 | loss 8.4790 | ppl  4812.64\n",
      "| epoch   6 | 1400/4338 batches | lr 0.001000 | ms/batch 38.39 | loss 9.3059 | ppl 11002.54\n",
      "| epoch   6 | 1600/4338 batches | lr 0.001000 | ms/batch 38.43 | loss 9.8928 | ppl 19787.88\n",
      "| epoch   6 | 1800/4338 batches | lr 0.001000 | ms/batch 38.40 | loss 7.8778 | ppl  2638.08\n",
      "| epoch   6 | 2000/4338 batches | lr 0.001000 | ms/batch 38.42 | loss 6.7929 | ppl   891.53\n",
      "| epoch   6 | 2200/4338 batches | lr 0.001000 | ms/batch 38.40 | loss 6.8017 | ppl   899.36\n",
      "| epoch   6 | 2400/4338 batches | lr 0.001000 | ms/batch 38.42 | loss 7.1505 | ppl  1274.76\n",
      "| epoch   6 | 2600/4338 batches | lr 0.001000 | ms/batch 38.41 | loss 7.3277 | ppl  1521.89\n",
      "| epoch   6 | 2800/4338 batches | lr 0.001000 | ms/batch 38.40 | loss 7.4159 | ppl  1662.16\n",
      "| epoch   6 | 3000/4338 batches | lr 0.001000 | ms/batch 38.40 | loss 7.3005 | ppl  1481.01\n",
      "| epoch   6 | 3200/4338 batches | lr 0.001000 | ms/batch 38.40 | loss 9.0876 | ppl  8845.26\n",
      "| epoch   6 | 3400/4338 batches | lr 0.001000 | ms/batch 38.42 | loss 8.9478 | ppl  7690.62\n",
      "| epoch   6 | 3600/4338 batches | lr 0.001000 | ms/batch 38.41 | loss 8.1953 | ppl  3623.92\n",
      "| epoch   6 | 3800/4338 batches | lr 0.001000 | ms/batch 38.41 | loss 9.2366 | ppl 10266.49\n",
      "| epoch   6 | 4000/4338 batches | lr 0.001000 | ms/batch 38.40 | loss 8.0011 | ppl  2984.28\n",
      "| epoch   6 | 4200/4338 batches | lr 0.001000 | ms/batch 38.41 | loss 9.0212 | ppl  8276.41\n",
      "-----------------------------------------------------------------------------------------\n",
      "|end of epoch   6 | time 169.12s| valid loss 52.0448 | valid ppl 40063875872839014809600.00\n",
      "-----------------------------------------------------------------------------------------\n",
      "Start Training\n",
      "| epoch   7 |  200/4338 batches | lr 0.001000 | ms/batch 38.40 | loss 9.3311 | ppl 11283.76\n",
      "| epoch   7 |  400/4338 batches | lr 0.001000 | ms/batch 38.39 | loss 9.1531 | ppl  9443.98\n",
      "| epoch   7 |  600/4338 batches | lr 0.001000 | ms/batch 38.39 | loss 8.5572 | ppl  5204.30\n",
      "| epoch   7 |  800/4338 batches | lr 0.001000 | ms/batch 38.39 | loss 9.6321 | ppl 15245.72\n",
      "| epoch   7 | 1000/4338 batches | lr 0.001000 | ms/batch 38.40 | loss 10.2316 | ppl 27766.27\n",
      "| epoch   7 | 1200/4338 batches | lr 0.001000 | ms/batch 38.39 | loss 8.0147 | ppl  3024.99\n",
      "| epoch   7 | 1400/4338 batches | lr 0.001000 | ms/batch 38.38 | loss 8.0063 | ppl  2999.72\n",
      "| epoch   7 | 1600/4338 batches | lr 0.001000 | ms/batch 38.39 | loss 8.7930 | ppl  6588.10\n",
      "| epoch   7 | 1800/4338 batches | lr 0.001000 | ms/batch 38.46 | loss 7.0046 | ppl  1101.69\n",
      "| epoch   7 | 2000/4338 batches | lr 0.001000 | ms/batch 38.40 | loss 7.0254 | ppl  1124.80\n",
      "| epoch   7 | 2200/4338 batches | lr 0.001000 | ms/batch 38.40 | loss 6.7821 | ppl   881.93\n",
      "| epoch   7 | 2400/4338 batches | lr 0.001000 | ms/batch 38.42 | loss 8.4857 | ppl  4845.19\n",
      "| epoch   7 | 2600/4338 batches | lr 0.001000 | ms/batch 38.48 | loss 7.2771 | ppl  1446.85\n",
      "| epoch   7 | 2800/4338 batches | lr 0.001000 | ms/batch 38.41 | loss 7.8144 | ppl  2476.02\n",
      "| epoch   7 | 3000/4338 batches | lr 0.001000 | ms/batch 38.41 | loss 7.4275 | ppl  1681.60\n",
      "| epoch   7 | 3200/4338 batches | lr 0.001000 | ms/batch 38.40 | loss 8.5151 | ppl  4989.73\n",
      "| epoch   7 | 3400/4338 batches | lr 0.001000 | ms/batch 38.39 | loss 8.6000 | ppl  5431.66\n",
      "| epoch   7 | 3600/4338 batches | lr 0.001000 | ms/batch 38.40 | loss 7.7519 | ppl  2325.99\n",
      "| epoch   7 | 3800/4338 batches | lr 0.001000 | ms/batch 38.41 | loss 8.3037 | ppl  4038.80\n",
      "| epoch   7 | 4000/4338 batches | lr 0.001000 | ms/batch 38.41 | loss 7.5127 | ppl  1831.12\n",
      "| epoch   7 | 4200/4338 batches | lr 0.001000 | ms/batch 38.39 | loss 7.6183 | ppl  2035.19\n",
      "-----------------------------------------------------------------------------------------\n",
      "|end of epoch   7 | time 169.10s| valid loss 40.3509 | valid ppl 334337659404753536.00\n",
      "-----------------------------------------------------------------------------------------\n",
      "Start Training\n",
      "| epoch   8 |  200/4338 batches | lr 0.001000 | ms/batch 38.36 | loss 6.0521 | ppl   424.99\n",
      "| epoch   8 |  400/4338 batches | lr 0.001000 | ms/batch 38.34 | loss 8.8892 | ppl  7253.36\n",
      "| epoch   8 |  600/4338 batches | lr 0.001000 | ms/batch 38.34 | loss 8.1415 | ppl  3434.05\n",
      "| epoch   8 |  800/4338 batches | lr 0.001000 | ms/batch 38.36 | loss 7.4679 | ppl  1751.00\n",
      "| epoch   8 | 1000/4338 batches | lr 0.001000 | ms/batch 38.34 | loss 10.3147 | ppl 30171.64\n",
      "| epoch   8 | 1200/4338 batches | lr 0.001000 | ms/batch 38.35 | loss 8.1053 | ppl  3312.05\n",
      "| epoch   8 | 1400/4338 batches | lr 0.001000 | ms/batch 38.34 | loss 8.2375 | ppl  3779.94\n",
      "| epoch   8 | 1600/4338 batches | lr 0.001000 | ms/batch 38.35 | loss 8.1995 | ppl  3639.05\n",
      "| epoch   8 | 1800/4338 batches | lr 0.001000 | ms/batch 38.36 | loss 7.0208 | ppl  1119.65\n",
      "| epoch   8 | 2000/4338 batches | lr 0.001000 | ms/batch 38.37 | loss 7.0337 | ppl  1134.24\n",
      "| epoch   8 | 2200/4338 batches | lr 0.001000 | ms/batch 38.36 | loss 6.9858 | ppl  1081.21\n",
      "| epoch   8 | 2400/4338 batches | lr 0.001000 | ms/batch 38.37 | loss 7.1890 | ppl  1324.71\n",
      "| epoch   8 | 2600/4338 batches | lr 0.001000 | ms/batch 38.36 | loss 7.1316 | ppl  1250.84\n",
      "| epoch   8 | 2800/4338 batches | lr 0.001000 | ms/batch 38.37 | loss 7.0596 | ppl  1163.98\n",
      "| epoch   8 | 3000/4338 batches | lr 0.001000 | ms/batch 38.36 | loss 7.0782 | ppl  1185.80\n",
      "| epoch   8 | 3200/4338 batches | lr 0.001000 | ms/batch 38.36 | loss 8.1140 | ppl  3340.78\n",
      "| epoch   8 | 3400/4338 batches | lr 0.001000 | ms/batch 38.37 | loss 8.2613 | ppl  3871.17\n",
      "| epoch   8 | 3600/4338 batches | lr 0.001000 | ms/batch 38.35 | loss 8.5326 | ppl  5077.61\n",
      "| epoch   8 | 3800/4338 batches | lr 0.001000 | ms/batch 38.36 | loss 7.7383 | ppl  2294.50\n",
      "| epoch   8 | 4000/4338 batches | lr 0.001000 | ms/batch 38.38 | loss 7.4237 | ppl  1675.20\n",
      "| epoch   8 | 4200/4338 batches | lr 0.001000 | ms/batch 38.36 | loss 7.5611 | ppl  1921.98\n",
      "-----------------------------------------------------------------------------------------\n",
      "|end of epoch   8 | time 168.39s| valid loss 34.6922 | valid ppl 1165868834572969.00\n",
      "-----------------------------------------------------------------------------------------\n",
      "Start Training\n",
      "| epoch   9 |  200/4338 batches | lr 0.001000 | ms/batch 38.36 | loss 7.6354 | ppl  2070.10\n",
      "| epoch   9 |  400/4338 batches | lr 0.001000 | ms/batch 38.34 | loss 8.7139 | ppl  6086.81\n",
      "| epoch   9 |  600/4338 batches | lr 0.001000 | ms/batch 38.35 | loss 9.1099 | ppl  9044.61\n",
      "| epoch   9 |  800/4338 batches | lr 0.001000 | ms/batch 38.35 | loss 7.0102 | ppl  1107.86\n",
      "| epoch   9 | 1000/4338 batches | lr 0.001000 | ms/batch 38.34 | loss 9.4216 | ppl 12352.39\n",
      "| epoch   9 | 1200/4338 batches | lr 0.001000 | ms/batch 38.34 | loss 8.5604 | ppl  5220.92\n",
      "| epoch   9 | 1400/4338 batches | lr 0.001000 | ms/batch 38.35 | loss 8.5203 | ppl  5015.52\n",
      "| epoch   9 | 1600/4338 batches | lr 0.001000 | ms/batch 38.36 | loss 9.2552 | ppl 10458.31\n",
      "| epoch   9 | 1800/4338 batches | lr 0.001000 | ms/batch 38.37 | loss 7.1786 | ppl  1311.01\n",
      "| epoch   9 | 2000/4338 batches | lr 0.001000 | ms/batch 38.36 | loss 6.7664 | ppl   868.15\n",
      "| epoch   9 | 2200/4338 batches | lr 0.001000 | ms/batch 38.38 | loss 6.7698 | ppl   871.10\n",
      "| epoch   9 | 2400/4338 batches | lr 0.001000 | ms/batch 38.36 | loss 8.2488 | ppl  3822.89\n",
      "| epoch   9 | 2600/4338 batches | lr 0.001000 | ms/batch 38.36 | loss 8.4799 | ppl  4816.97\n",
      "| epoch   9 | 2800/4338 batches | lr 0.001000 | ms/batch 38.37 | loss 7.0556 | ppl  1159.38\n",
      "| epoch   9 | 3000/4338 batches | lr 0.001000 | ms/batch 38.37 | loss 7.1761 | ppl  1307.77\n",
      "| epoch   9 | 3200/4338 batches | lr 0.001000 | ms/batch 39.01 | loss 8.0482 | ppl  3128.16\n",
      "| epoch   9 | 3400/4338 batches | lr 0.001000 | ms/batch 38.36 | loss 7.4310 | ppl  1687.43\n",
      "| epoch   9 | 3600/4338 batches | lr 0.001000 | ms/batch 38.37 | loss 7.7585 | ppl  2341.27\n",
      "| epoch   9 | 3800/4338 batches | lr 0.001000 | ms/batch 38.37 | loss 7.6210 | ppl  2040.56\n",
      "| epoch   9 | 4000/4338 batches | lr 0.001000 | ms/batch 38.37 | loss 8.2973 | ppl  4013.10\n",
      "| epoch   9 | 4200/4338 batches | lr 0.001000 | ms/batch 38.36 | loss 7.4987 | ppl  1805.75\n",
      "-----------------------------------------------------------------------------------------\n",
      "|end of epoch   9 | time 168.63s| valid loss 29.6430 | valid ppl 7477900884053.91\n",
      "-----------------------------------------------------------------------------------------\n",
      "Start Training\n",
      "| epoch  10 |  200/4338 batches | lr 0.001000 | ms/batch 38.36 | loss 7.4649 | ppl  1745.74\n",
      "| epoch  10 |  400/4338 batches | lr 0.001000 | ms/batch 38.34 | loss 9.3335 | ppl 11310.66\n",
      "| epoch  10 |  600/4338 batches | lr 0.001000 | ms/batch 38.34 | loss 8.2542 | ppl  3843.86\n",
      "| epoch  10 |  800/4338 batches | lr 0.001000 | ms/batch 38.35 | loss 6.7584 | ppl   861.22\n",
      "| epoch  10 | 1000/4338 batches | lr 0.001000 | ms/batch 38.35 | loss 8.4715 | ppl  4776.75\n",
      "| epoch  10 | 1200/4338 batches | lr 0.001000 | ms/batch 38.35 | loss 7.4573 | ppl  1732.51\n",
      "| epoch  10 | 1400/4338 batches | lr 0.001000 | ms/batch 38.36 | loss 8.7326 | ppl  6201.98\n",
      "| epoch  10 | 1600/4338 batches | lr 0.001000 | ms/batch 38.35 | loss 6.9420 | ppl  1034.81\n",
      "| epoch  10 | 1800/4338 batches | lr 0.001000 | ms/batch 38.37 | loss 6.9972 | ppl  1093.53\n",
      "| epoch  10 | 2000/4338 batches | lr 0.001000 | ms/batch 38.36 | loss 6.7880 | ppl   887.16\n",
      "| epoch  10 | 2200/4338 batches | lr 0.001000 | ms/batch 38.36 | loss 6.9264 | ppl  1018.82\n",
      "| epoch  10 | 2400/4338 batches | lr 0.001000 | ms/batch 38.37 | loss 8.3055 | ppl  4046.05\n",
      "| epoch  10 | 2600/4338 batches | lr 0.001000 | ms/batch 38.36 | loss 7.1965 | ppl  1334.73\n",
      "| epoch  10 | 2800/4338 batches | lr 0.001000 | ms/batch 38.37 | loss 7.1422 | ppl  1264.22\n",
      "| epoch  10 | 3000/4338 batches | lr 0.001000 | ms/batch 38.38 | loss 7.1201 | ppl  1236.60\n",
      "| epoch  10 | 3200/4338 batches | lr 0.001000 | ms/batch 38.39 | loss 7.5835 | ppl  1965.58\n",
      "| epoch  10 | 3400/4338 batches | lr 0.001000 | ms/batch 38.39 | loss 7.3761 | ppl  1597.39\n",
      "| epoch  10 | 3600/4338 batches | lr 0.001000 | ms/batch 38.39 | loss 7.6708 | ppl  2144.82\n",
      "| epoch  10 | 3800/4338 batches | lr 0.001000 | ms/batch 38.37 | loss 7.9947 | ppl  2965.17\n",
      "| epoch  10 | 4000/4338 batches | lr 0.001000 | ms/batch 38.36 | loss 7.3420 | ppl  1543.76\n",
      "| epoch  10 | 4200/4338 batches | lr 0.001000 | ms/batch 38.36 | loss 8.3631 | ppl  4285.93\n",
      "-----------------------------------------------------------------------------------------\n",
      "|end of epoch  10 | time 168.46s| valid loss 24.0930 | valid ppl 29072163964.65\n",
      "-----------------------------------------------------------------------------------------\n",
      "Start Training\n",
      "| epoch  11 |  200/4338 batches | lr 0.001000 | ms/batch 38.36 | loss 6.7019 | ppl   813.93\n",
      "| epoch  11 |  400/4338 batches | lr 0.001000 | ms/batch 38.36 | loss 6.9027 | ppl   994.98\n",
      "| epoch  11 |  600/4338 batches | lr 0.001000 | ms/batch 38.34 | loss 7.2200 | ppl  1366.52\n",
      "| epoch  11 |  800/4338 batches | lr 0.001000 | ms/batch 38.34 | loss 7.6204 | ppl  2039.43\n",
      "| epoch  11 | 1000/4338 batches | lr 0.001000 | ms/batch 38.35 | loss 7.6684 | ppl  2139.56\n",
      "| epoch  11 | 1200/4338 batches | lr 0.001000 | ms/batch 38.34 | loss 10.2861 | ppl 29322.23\n",
      "| epoch  11 | 1400/4338 batches | lr 0.001000 | ms/batch 38.34 | loss 9.4393 | ppl 12572.55\n",
      "| epoch  11 | 1600/4338 batches | lr 0.001000 | ms/batch 38.36 | loss 8.8690 | ppl  7107.95\n",
      "| epoch  11 | 1800/4338 batches | lr 0.001000 | ms/batch 38.36 | loss 6.8420 | ppl   936.32\n",
      "| epoch  11 | 2000/4338 batches | lr 0.001000 | ms/batch 38.36 | loss 6.7609 | ppl   863.39\n",
      "| epoch  11 | 2200/4338 batches | lr 0.001000 | ms/batch 38.36 | loss 6.7455 | ppl   850.23\n",
      "| epoch  11 | 2400/4338 batches | lr 0.001000 | ms/batch 38.35 | loss 8.1209 | ppl  3364.20\n",
      "| epoch  11 | 2600/4338 batches | lr 0.001000 | ms/batch 38.35 | loss 7.0936 | ppl  1204.19\n",
      "| epoch  11 | 2800/4338 batches | lr 0.001000 | ms/batch 38.36 | loss 7.0317 | ppl  1131.92\n",
      "| epoch  11 | 3000/4338 batches | lr 0.001000 | ms/batch 38.36 | loss 7.0292 | ppl  1129.18\n",
      "| epoch  11 | 3200/4338 batches | lr 0.001000 | ms/batch 38.36 | loss 7.9135 | ppl  2733.95\n",
      "| epoch  11 | 3400/4338 batches | lr 0.001000 | ms/batch 38.35 | loss 7.5541 | ppl  1908.46\n",
      "| epoch  11 | 3600/4338 batches | lr 0.001000 | ms/batch 38.36 | loss 7.5466 | ppl  1894.37\n",
      "| epoch  11 | 3800/4338 batches | lr 0.001000 | ms/batch 38.37 | loss 7.5806 | ppl  1959.83\n",
      "| epoch  11 | 4000/4338 batches | lr 0.001000 | ms/batch 38.36 | loss 7.6032 | ppl  2004.65\n",
      "| epoch  11 | 4200/4338 batches | lr 0.001000 | ms/batch 38.38 | loss 7.5457 | ppl  1892.63\n",
      "-----------------------------------------------------------------------------------------\n",
      "|end of epoch  11 | time 168.40s| valid loss 22.5212 | valid ppl 6036907671.09\n",
      "-----------------------------------------------------------------------------------------\n",
      "Start Training\n",
      "| epoch  12 |  200/4338 batches | lr 0.001000 | ms/batch 38.35 | loss 5.8219 | ppl   337.62\n",
      "| epoch  12 |  400/4338 batches | lr 0.001000 | ms/batch 38.34 | loss 7.9973 | ppl  2972.94\n",
      "| epoch  12 |  600/4338 batches | lr 0.001000 | ms/batch 38.34 | loss 7.7804 | ppl  2393.20\n",
      "| epoch  12 |  800/4338 batches | lr 0.001000 | ms/batch 38.35 | loss 6.8021 | ppl   899.74\n",
      "| epoch  12 | 1000/4338 batches | lr 0.001000 | ms/batch 38.35 | loss 9.0355 | ppl  8396.14\n",
      "| epoch  12 | 1200/4338 batches | lr 0.001000 | ms/batch 38.34 | loss 8.4779 | ppl  4807.37\n",
      "| epoch  12 | 1400/4338 batches | lr 0.001000 | ms/batch 38.36 | loss 8.4529 | ppl  4688.45\n",
      "| epoch  12 | 1600/4338 batches | lr 0.001000 | ms/batch 38.36 | loss 7.5941 | ppl  1986.37\n",
      "| epoch  12 | 1800/4338 batches | lr 0.001000 | ms/batch 38.35 | loss 6.7585 | ppl   861.36\n",
      "| epoch  12 | 2000/4338 batches | lr 0.001000 | ms/batch 38.36 | loss 6.8413 | ppl   935.73\n",
      "| epoch  12 | 2200/4338 batches | lr 0.001000 | ms/batch 38.36 | loss 6.9501 | ppl  1043.21\n",
      "| epoch  12 | 2400/4338 batches | lr 0.001000 | ms/batch 38.36 | loss 7.1631 | ppl  1290.97\n",
      "| epoch  12 | 2600/4338 batches | lr 0.001000 | ms/batch 38.37 | loss 7.5953 | ppl  1988.75\n",
      "| epoch  12 | 2800/4338 batches | lr 0.001000 | ms/batch 38.38 | loss 7.0299 | ppl  1129.88\n",
      "| epoch  12 | 3000/4338 batches | lr 0.001000 | ms/batch 38.37 | loss 6.6788 | ppl   795.34\n",
      "| epoch  12 | 3200/4338 batches | lr 0.001000 | ms/batch 38.37 | loss 7.3535 | ppl  1561.63\n",
      "| epoch  12 | 3400/4338 batches | lr 0.001000 | ms/batch 38.36 | loss 7.4639 | ppl  1744.02\n",
      "| epoch  12 | 3600/4338 batches | lr 0.001000 | ms/batch 38.37 | loss 7.5223 | ppl  1848.78\n",
      "| epoch  12 | 3800/4338 batches | lr 0.001000 | ms/batch 38.37 | loss 7.9039 | ppl  2707.77\n",
      "| epoch  12 | 4000/4338 batches | lr 0.001000 | ms/batch 38.37 | loss 7.2843 | ppl  1457.21\n",
      "| epoch  12 | 4200/4338 batches | lr 0.001000 | ms/batch 38.37 | loss 7.7943 | ppl  2426.79\n",
      "-----------------------------------------------------------------------------------------\n",
      "|end of epoch  12 | time 168.44s| valid loss 20.2760 | valid ppl 639356456.01\n",
      "-----------------------------------------------------------------------------------------\n",
      "Start Training\n",
      "| epoch  13 |  200/4338 batches | lr 0.001000 | ms/batch 38.36 | loss 4.9076 | ppl   135.31\n",
      "| epoch  13 |  400/4338 batches | lr 0.001000 | ms/batch 38.35 | loss 5.8322 | ppl   341.11\n",
      "| epoch  13 |  600/4338 batches | lr 0.001000 | ms/batch 38.36 | loss 7.7530 | ppl  2328.51\n",
      "| epoch  13 |  800/4338 batches | lr 0.001000 | ms/batch 38.37 | loss 6.6643 | ppl   783.89\n",
      "| epoch  13 | 1000/4338 batches | lr 0.001000 | ms/batch 38.35 | loss 6.8588 | ppl   952.27\n",
      "| epoch  13 | 1200/4338 batches | lr 0.001000 | ms/batch 38.36 | loss 6.8574 | ppl   950.92\n",
      "| epoch  13 | 1400/4338 batches | lr 0.001000 | ms/batch 38.36 | loss 7.9556 | ppl  2851.40\n",
      "| epoch  13 | 1600/4338 batches | lr 0.001000 | ms/batch 38.38 | loss 7.2437 | ppl  1399.28\n",
      "| epoch  13 | 1800/4338 batches | lr 0.001000 | ms/batch 38.36 | loss 7.2614 | ppl  1424.18\n",
      "| epoch  13 | 2000/4338 batches | lr 0.001000 | ms/batch 38.38 | loss 6.7230 | ppl   831.32\n",
      "| epoch  13 | 2200/4338 batches | lr 0.001000 | ms/batch 38.37 | loss 6.8986 | ppl   990.90\n",
      "| epoch  13 | 2400/4338 batches | lr 0.001000 | ms/batch 38.38 | loss 7.9145 | ppl  2736.68\n",
      "| epoch  13 | 2600/4338 batches | lr 0.001000 | ms/batch 38.37 | loss 6.9341 | ppl  1026.74\n",
      "| epoch  13 | 2800/4338 batches | lr 0.001000 | ms/batch 38.37 | loss 7.4316 | ppl  1688.48\n",
      "| epoch  13 | 3000/4338 batches | lr 0.001000 | ms/batch 38.36 | loss 6.8668 | ppl   959.89\n",
      "| epoch  13 | 3200/4338 batches | lr 0.001000 | ms/batch 38.36 | loss 7.2607 | ppl  1423.28\n",
      "| epoch  13 | 3400/4338 batches | lr 0.001000 | ms/batch 38.37 | loss 7.3616 | ppl  1574.37\n",
      "| epoch  13 | 3600/4338 batches | lr 0.001000 | ms/batch 38.36 | loss 7.5057 | ppl  1818.33\n",
      "| epoch  13 | 3800/4338 batches | lr 0.001000 | ms/batch 38.37 | loss 7.7174 | ppl  2247.19\n",
      "| epoch  13 | 4000/4338 batches | lr 0.001000 | ms/batch 38.37 | loss 8.2240 | ppl  3729.26\n",
      "| epoch  13 | 4200/4338 batches | lr 0.001000 | ms/batch 38.37 | loss 7.3969 | ppl  1630.98\n",
      "-----------------------------------------------------------------------------------------\n",
      "|end of epoch  13 | time 168.48s| valid loss 18.9764 | valid ppl 174324396.17\n",
      "-----------------------------------------------------------------------------------------\n",
      "Start Training\n",
      "| epoch  14 |  200/4338 batches | lr 0.001000 | ms/batch 38.36 | loss 3.4973 | ppl    33.03\n",
      "| epoch  14 |  400/4338 batches | lr 0.001000 | ms/batch 38.34 | loss 6.4713 | ppl   646.32\n",
      "| epoch  14 |  600/4338 batches | lr 0.001000 | ms/batch 38.35 | loss 6.4576 | ppl   637.51\n",
      "| epoch  14 |  800/4338 batches | lr 0.001000 | ms/batch 38.35 | loss 6.8181 | ppl   914.23\n",
      "| epoch  14 | 1000/4338 batches | lr 0.001000 | ms/batch 38.35 | loss 8.0125 | ppl  3018.39\n",
      "| epoch  14 | 1200/4338 batches | lr 0.001000 | ms/batch 38.35 | loss 8.0588 | ppl  3161.44\n",
      "| epoch  14 | 1400/4338 batches | lr 0.001000 | ms/batch 38.36 | loss 7.1119 | ppl  1226.48\n",
      "| epoch  14 | 1600/4338 batches | lr 0.001000 | ms/batch 38.39 | loss 7.4418 | ppl  1705.76\n",
      "| epoch  14 | 1800/4338 batches | lr 0.001000 | ms/batch 38.38 | loss 7.0849 | ppl  1193.86\n",
      "| epoch  14 | 2000/4338 batches | lr 0.001000 | ms/batch 38.38 | loss 6.7427 | ppl   847.81\n",
      "| epoch  14 | 2200/4338 batches | lr 0.001000 | ms/batch 38.36 | loss 6.7923 | ppl   890.92\n",
      "| epoch  14 | 2400/4338 batches | lr 0.001000 | ms/batch 38.36 | loss 6.9219 | ppl  1014.28\n",
      "| epoch  14 | 2600/4338 batches | lr 0.001000 | ms/batch 38.37 | loss 6.9790 | ppl  1073.82\n",
      "| epoch  14 | 2800/4338 batches | lr 0.001000 | ms/batch 38.38 | loss 7.1540 | ppl  1279.15\n",
      "| epoch  14 | 3000/4338 batches | lr 0.001000 | ms/batch 38.36 | loss 6.7936 | ppl   892.09\n",
      "| epoch  14 | 3200/4338 batches | lr 0.001000 | ms/batch 38.38 | loss 7.7388 | ppl  2295.66\n",
      "| epoch  14 | 3400/4338 batches | lr 0.001000 | ms/batch 39.35 | loss 7.5386 | ppl  1879.29\n",
      "| epoch  14 | 3600/4338 batches | lr 0.001000 | ms/batch 38.69 | loss 7.4886 | ppl  1787.48\n",
      "| epoch  14 | 3800/4338 batches | lr 0.001000 | ms/batch 40.31 | loss 7.5907 | ppl  1979.74\n",
      "| epoch  14 | 4000/4338 batches | lr 0.001000 | ms/batch 38.79 | loss 7.2701 | ppl  1436.64\n",
      "| epoch  14 | 4200/4338 batches | lr 0.001000 | ms/batch 38.38 | loss 7.3711 | ppl  1589.41\n",
      "-----------------------------------------------------------------------------------------\n",
      "|end of epoch  14 | time 169.36s| valid loss 18.0987 | valid ppl 72468719.90\n",
      "-----------------------------------------------------------------------------------------\n",
      "Start Training\n",
      "| epoch  15 |  200/4338 batches | lr 0.001000 | ms/batch 38.37 | loss 4.2772 | ppl    72.04\n",
      "| epoch  15 |  400/4338 batches | lr 0.001000 | ms/batch 38.34 | loss 6.8773 | ppl   969.97\n",
      "| epoch  15 |  600/4338 batches | lr 0.001000 | ms/batch 38.34 | loss 6.8203 | ppl   916.23\n",
      "| epoch  15 |  800/4338 batches | lr 0.001000 | ms/batch 38.34 | loss 6.5137 | ppl   674.30\n",
      "| epoch  15 | 1000/4338 batches | lr 0.001000 | ms/batch 38.34 | loss 6.9404 | ppl  1033.18\n",
      "| epoch  15 | 1200/4338 batches | lr 0.001000 | ms/batch 39.10 | loss 6.7650 | ppl   866.99\n",
      "| epoch  15 | 1400/4338 batches | lr 0.001000 | ms/batch 38.34 | loss 6.7196 | ppl   828.48\n",
      "| epoch  15 | 1600/4338 batches | lr 0.001000 | ms/batch 38.35 | loss 6.9329 | ppl  1025.45\n",
      "| epoch  15 | 1800/4338 batches | lr 0.001000 | ms/batch 38.35 | loss 6.8398 | ppl   934.27\n",
      "| epoch  15 | 2000/4338 batches | lr 0.001000 | ms/batch 38.38 | loss 6.8018 | ppl   899.42\n",
      "| epoch  15 | 2200/4338 batches | lr 0.001000 | ms/batch 38.39 | loss 6.7928 | ppl   891.43\n",
      "| epoch  15 | 2400/4338 batches | lr 0.001000 | ms/batch 38.38 | loss 6.7790 | ppl   879.17\n",
      "| epoch  15 | 2600/4338 batches | lr 0.001000 | ms/batch 38.36 | loss 7.1321 | ppl  1251.49\n",
      "| epoch  15 | 2800/4338 batches | lr 0.001000 | ms/batch 38.37 | loss 7.1315 | ppl  1250.74\n",
      "| epoch  15 | 3000/4338 batches | lr 0.001000 | ms/batch 38.36 | loss 6.7045 | ppl   816.07\n",
      "| epoch  15 | 3200/4338 batches | lr 0.001000 | ms/batch 38.37 | loss 7.2784 | ppl  1448.71\n",
      "| epoch  15 | 3400/4338 batches | lr 0.001000 | ms/batch 38.36 | loss 8.1253 | ppl  3378.91\n",
      "| epoch  15 | 3600/4338 batches | lr 0.001000 | ms/batch 38.36 | loss 7.4742 | ppl  1761.92\n",
      "| epoch  15 | 3800/4338 batches | lr 0.001000 | ms/batch 38.36 | loss 7.5267 | ppl  1856.98\n",
      "| epoch  15 | 4000/4338 batches | lr 0.001000 | ms/batch 38.76 | loss 7.2223 | ppl  1369.58\n",
      "| epoch  15 | 4200/4338 batches | lr 0.001000 | ms/batch 38.77 | loss 7.3684 | ppl  1585.09\n",
      "-----------------------------------------------------------------------------------------\n",
      "|end of epoch  15 | time 168.79s| valid loss 17.2070 | valid ppl 29708901.68\n",
      "-----------------------------------------------------------------------------------------\n",
      "Start Training\n",
      "| epoch  16 |  200/4338 batches | lr 0.001000 | ms/batch 38.35 | loss 5.9714 | ppl   392.05\n",
      "| epoch  16 |  400/4338 batches | lr 0.001000 | ms/batch 38.34 | loss 5.7066 | ppl   300.85\n",
      "| epoch  16 |  600/4338 batches | lr 0.001000 | ms/batch 38.33 | loss 6.4628 | ppl   640.85\n",
      "| epoch  16 |  800/4338 batches | lr 0.001000 | ms/batch 38.35 | loss 6.9762 | ppl  1070.86\n",
      "| epoch  16 | 1000/4338 batches | lr 0.001000 | ms/batch 38.35 | loss 7.4265 | ppl  1679.99\n",
      "| epoch  16 | 1200/4338 batches | lr 0.001000 | ms/batch 38.34 | loss 7.2423 | ppl  1397.25\n",
      "| epoch  16 | 1400/4338 batches | lr 0.001000 | ms/batch 38.34 | loss 7.3617 | ppl  1574.55\n",
      "| epoch  16 | 1600/4338 batches | lr 0.001000 | ms/batch 38.34 | loss 7.1641 | ppl  1292.14\n",
      "| epoch  16 | 1800/4338 batches | lr 0.001000 | ms/batch 38.35 | loss 6.8159 | ppl   912.28\n",
      "| epoch  16 | 2000/4338 batches | lr 0.001000 | ms/batch 38.37 | loss 6.7884 | ppl   887.52\n",
      "| epoch  16 | 2200/4338 batches | lr 0.001000 | ms/batch 39.13 | loss 6.7971 | ppl   895.24\n",
      "| epoch  16 | 2400/4338 batches | lr 0.001000 | ms/batch 38.36 | loss 7.0285 | ppl  1128.32\n",
      "| epoch  16 | 2600/4338 batches | lr 0.001000 | ms/batch 38.35 | loss 6.9642 | ppl  1058.04\n",
      "| epoch  16 | 2800/4338 batches | lr 0.001000 | ms/batch 38.36 | loss 7.0038 | ppl  1100.79\n",
      "| epoch  16 | 3000/4338 batches | lr 0.001000 | ms/batch 38.36 | loss 6.7021 | ppl   814.10\n",
      "| epoch  16 | 3200/4338 batches | lr 0.001000 | ms/batch 38.36 | loss 7.2626 | ppl  1425.94\n",
      "| epoch  16 | 3400/4338 batches | lr 0.001000 | ms/batch 38.36 | loss 7.5750 | ppl  1948.95\n",
      "| epoch  16 | 3600/4338 batches | lr 0.001000 | ms/batch 38.35 | loss 7.8995 | ppl  2695.90\n",
      "| epoch  16 | 3800/4338 batches | lr 0.001000 | ms/batch 38.36 | loss 7.4619 | ppl  1740.48\n",
      "| epoch  16 | 4000/4338 batches | lr 0.001000 | ms/batch 38.36 | loss 7.8577 | ppl  2585.46\n",
      "| epoch  16 | 4200/4338 batches | lr 0.001000 | ms/batch 38.36 | loss 7.3327 | ppl  1529.53\n",
      "-----------------------------------------------------------------------------------------\n",
      "|end of epoch  16 | time 168.52s| valid loss 16.0663 | valid ppl 9495583.00\n",
      "-----------------------------------------------------------------------------------------\n",
      "Start Training\n",
      "| epoch  17 |  200/4338 batches | lr 0.001000 | ms/batch 38.34 | loss 5.4469 | ppl   232.05\n",
      "| epoch  17 |  400/4338 batches | lr 0.001000 | ms/batch 38.33 | loss 7.3964 | ppl  1630.05\n",
      "| epoch  17 |  600/4338 batches | lr 0.001000 | ms/batch 38.34 | loss 6.5675 | ppl   711.57\n",
      "| epoch  17 |  800/4338 batches | lr 0.001000 | ms/batch 38.33 | loss 6.5952 | ppl   731.59\n",
      "| epoch  17 | 1000/4338 batches | lr 0.001000 | ms/batch 38.34 | loss 7.4340 | ppl  1692.55\n",
      "| epoch  17 | 1200/4338 batches | lr 0.001000 | ms/batch 38.34 | loss 7.7768 | ppl  2384.71\n",
      "| epoch  17 | 1400/4338 batches | lr 0.001000 | ms/batch 38.34 | loss 7.2880 | ppl  1462.71\n",
      "| epoch  17 | 1600/4338 batches | lr 0.001000 | ms/batch 38.34 | loss 7.2719 | ppl  1439.35\n",
      "| epoch  17 | 1800/4338 batches | lr 0.001000 | ms/batch 38.35 | loss 6.8240 | ppl   919.66\n",
      "| epoch  17 | 2000/4338 batches | lr 0.001000 | ms/batch 38.37 | loss 6.8603 | ppl   953.67\n",
      "| epoch  17 | 2200/4338 batches | lr 0.001000 | ms/batch 38.36 | loss 7.0980 | ppl  1209.56\n",
      "| epoch  17 | 2400/4338 batches | lr 0.001000 | ms/batch 38.36 | loss 6.9736 | ppl  1068.07\n",
      "| epoch  17 | 2600/4338 batches | lr 0.001000 | ms/batch 38.36 | loss 6.9640 | ppl  1057.84\n",
      "| epoch  17 | 2800/4338 batches | lr 0.001000 | ms/batch 38.37 | loss 7.0012 | ppl  1098.00\n",
      "| epoch  17 | 3000/4338 batches | lr 0.001000 | ms/batch 38.36 | loss 6.7508 | ppl   854.77\n",
      "| epoch  17 | 3200/4338 batches | lr 0.001000 | ms/batch 38.36 | loss 7.7134 | ppl  2238.15\n",
      "| epoch  17 | 3400/4338 batches | lr 0.001000 | ms/batch 38.36 | loss 7.2897 | ppl  1465.17\n",
      "| epoch  17 | 3600/4338 batches | lr 0.001000 | ms/batch 38.36 | loss 7.4566 | ppl  1731.32\n",
      "| epoch  17 | 3800/4338 batches | lr 0.001000 | ms/batch 38.39 | loss 7.4691 | ppl  1753.03\n",
      "| epoch  17 | 4000/4338 batches | lr 0.001000 | ms/batch 38.37 | loss 7.5017 | ppl  1811.19\n",
      "| epoch  17 | 4200/4338 batches | lr 0.001000 | ms/batch 38.36 | loss 7.3220 | ppl  1513.18\n",
      "-----------------------------------------------------------------------------------------\n",
      "|end of epoch  17 | time 168.36s| valid loss 15.7388 | valid ppl 6843372.38\n",
      "-----------------------------------------------------------------------------------------\n",
      "Start Training\n",
      "| epoch  18 |  200/4338 batches | lr 0.001000 | ms/batch 38.35 | loss 4.7176 | ppl   111.89\n",
      "| epoch  18 |  400/4338 batches | lr 0.001000 | ms/batch 38.33 | loss 5.8925 | ppl   362.32\n",
      "| epoch  18 |  600/4338 batches | lr 0.001000 | ms/batch 38.35 | loss 6.3428 | ppl   568.37\n",
      "| epoch  18 |  800/4338 batches | lr 0.001000 | ms/batch 38.34 | loss 6.7944 | ppl   892.83\n",
      "| epoch  18 | 1000/4338 batches | lr 0.001000 | ms/batch 38.34 | loss 7.3515 | ppl  1558.54\n",
      "| epoch  18 | 1200/4338 batches | lr 0.001000 | ms/batch 38.34 | loss 7.0703 | ppl  1176.55\n",
      "| epoch  18 | 1400/4338 batches | lr 0.001000 | ms/batch 38.34 | loss 7.1349 | ppl  1255.06\n",
      "| epoch  18 | 1600/4338 batches | lr 0.001000 | ms/batch 38.35 | loss 7.0979 | ppl  1209.37\n",
      "| epoch  18 | 1800/4338 batches | lr 0.001000 | ms/batch 38.36 | loss 6.8482 | ppl   942.18\n",
      "| epoch  18 | 2000/4338 batches | lr 0.001000 | ms/batch 38.37 | loss 6.8089 | ppl   905.88\n",
      "| epoch  18 | 2200/4338 batches | lr 0.001000 | ms/batch 38.38 | loss 6.9501 | ppl  1043.27\n",
      "| epoch  18 | 2400/4338 batches | lr 0.001000 | ms/batch 38.36 | loss 7.0953 | ppl  1206.27\n",
      "| epoch  18 | 2600/4338 batches | lr 0.001000 | ms/batch 38.37 | loss 7.0175 | ppl  1115.99\n",
      "| epoch  18 | 2800/4338 batches | lr 0.001000 | ms/batch 38.37 | loss 6.9992 | ppl  1095.80\n",
      "| epoch  18 | 3000/4338 batches | lr 0.001000 | ms/batch 38.36 | loss 6.7047 | ppl   816.23\n",
      "| epoch  18 | 3200/4338 batches | lr 0.001000 | ms/batch 38.36 | loss 7.3118 | ppl  1497.81\n",
      "| epoch  18 | 3400/4338 batches | lr 0.001000 | ms/batch 38.36 | loss 7.4334 | ppl  1691.50\n",
      "| epoch  18 | 3600/4338 batches | lr 0.001000 | ms/batch 38.36 | loss 7.6795 | ppl  2163.61\n",
      "| epoch  18 | 3800/4338 batches | lr 0.001000 | ms/batch 38.37 | loss 8.6715 | ppl  5834.52\n",
      "| epoch  18 | 4000/4338 batches | lr 0.001000 | ms/batch 38.37 | loss 7.1874 | ppl  1322.60\n",
      "| epoch  18 | 4200/4338 batches | lr 0.001000 | ms/batch 38.36 | loss 7.3057 | ppl  1488.83\n",
      "-----------------------------------------------------------------------------------------\n",
      "|end of epoch  18 | time 168.37s| valid loss 15.7587 | valid ppl 6980827.71\n",
      "-----------------------------------------------------------------------------------------\n",
      "Start Training\n",
      "| epoch  19 |  200/4338 batches | lr 0.001000 | ms/batch 38.34 | loss 7.3598 | ppl  1571.59\n",
      "| epoch  19 |  400/4338 batches | lr 0.001000 | ms/batch 38.33 | loss 5.7718 | ppl   321.10\n",
      "| epoch  19 |  600/4338 batches | lr 0.001000 | ms/batch 38.34 | loss 6.4401 | ppl   626.47\n",
      "| epoch  19 |  800/4338 batches | lr 0.001000 | ms/batch 38.34 | loss 6.6465 | ppl   770.06\n",
      "| epoch  19 | 1000/4338 batches | lr 0.001000 | ms/batch 38.34 | loss 6.6692 | ppl   787.80\n",
      "| epoch  19 | 1200/4338 batches | lr 0.001000 | ms/batch 38.34 | loss 6.9699 | ppl  1064.08\n",
      "| epoch  19 | 1400/4338 batches | lr 0.001000 | ms/batch 38.34 | loss 6.8879 | ppl   980.35\n",
      "| epoch  19 | 1600/4338 batches | lr 0.001000 | ms/batch 38.35 | loss 6.8003 | ppl   898.13\n",
      "| epoch  19 | 1800/4338 batches | lr 0.001000 | ms/batch 38.36 | loss 6.9792 | ppl  1074.08\n",
      "| epoch  19 | 2000/4338 batches | lr 0.001000 | ms/batch 38.36 | loss 6.8132 | ppl   909.77\n",
      "| epoch  19 | 2200/4338 batches | lr 0.001000 | ms/batch 38.36 | loss 6.8080 | ppl   905.03\n",
      "| epoch  19 | 2400/4338 batches | lr 0.001000 | ms/batch 38.37 | loss 6.8951 | ppl   987.38\n",
      "| epoch  19 | 2600/4338 batches | lr 0.001000 | ms/batch 38.36 | loss 6.9641 | ppl  1057.97\n",
      "| epoch  19 | 2800/4338 batches | lr 0.001000 | ms/batch 38.39 | loss 6.9984 | ppl  1094.85\n",
      "| epoch  19 | 3000/4338 batches | lr 0.001000 | ms/batch 38.37 | loss 6.8703 | ppl   963.19\n",
      "| epoch  19 | 3200/4338 batches | lr 0.001000 | ms/batch 38.37 | loss 7.2474 | ppl  1404.47\n",
      "| epoch  19 | 3400/4338 batches | lr 0.001000 | ms/batch 38.39 | loss 7.3017 | ppl  1482.78\n",
      "| epoch  19 | 3600/4338 batches | lr 0.001000 | ms/batch 38.38 | loss 7.5332 | ppl  1868.99\n",
      "| epoch  19 | 3800/4338 batches | lr 0.001000 | ms/batch 38.37 | loss 7.4854 | ppl  1781.86\n",
      "| epoch  19 | 4000/4338 batches | lr 0.001000 | ms/batch 38.37 | loss 7.2107 | ppl  1353.87\n",
      "| epoch  19 | 4200/4338 batches | lr 0.001000 | ms/batch 38.36 | loss 7.2958 | ppl  1474.03\n",
      "-----------------------------------------------------------------------------------------\n",
      "|end of epoch  19 | time 168.39s| valid loss 15.0111 | valid ppl 3305412.62\n",
      "-----------------------------------------------------------------------------------------\n"
     ]
    }
   ],
   "source": [
    "# Now, call the above functions in order to train model per epoch and validate model, printing the performance\n",
    "for epoch in range(EPOCHS):\n",
    "  x_epoch.append(epoch + 1)\n",
    "  # Run training\n",
    "  start_total_train_time=time.time()\n",
    "  training(epoch)\n",
    "  total_train_time = time.time() - start_total_train_time\n",
    "  # Run validation\n",
    "  validation(epoch, total_train_time)"
   ]
  },
  {
   "cell_type": "code",
   "execution_count": 45,
   "metadata": {
    "colab": {
     "base_uri": "https://localhost:8080/",
     "height": 369
    },
    "id": "QFF3cEbfo5AG",
    "outputId": "87fafa1f-0d85-44ea-e15e-590f24994701"
   },
   "outputs": [
    {
     "name": "stdout",
     "output_type": "stream",
     "text": [
      "x: [1, 2, 3, 4, 5, 6, 7, 8, 9, 10, 11, 12, 13, 14, 15, 16, 17, 18, 19, 20]\n",
      "train: [12883404.293452263, 10434965.111952223, 10439874.041120935, 9970918.242243497, 9657184.111127809, 9269274.619587142, 9275225.249968411, 9075566.159544023, 8599648.94018073, 8801859.180149471, 8475482.144144915, 8466556.039827198, 8271978.465109607, 7970243.3123464, 7811014.84212437, 7691833.9727465045, 7833375.582008186, 7894254.606715281, 7761378.3691465175, 7737006.97784676]\n",
      "val: [7719964.001464844, 8087096.577392578, 7644297.2470703125, 7094464.499755859, 6531560.83203125, 5866987.213378906, 5049590.9912109375, 3915008.4221191406, 3365980.1833496094, 2876079.8354492188, 2337603.791015625, 2185092.8088378906, 1967255.9743652344, 1841168.9956054688, 1756004.9289550781, 1669487.8229980469, 1558820.3103027344, 1527040.4780273438, 1528969.9792480469, 1456434.2373046875]\n"
     ]
    },
    {
     "data": {
      "image/png": "[encoded data removed]",
      "text/plain": [
       "<Figure size 432x288 with 1 Axes>"
      ]
     },
     "metadata": {
      "needs_background": "light"
     },
     "output_type": "display_data"
    }
   ],
   "source": [
    "# Draw curve\n",
    "draw_curve(x_epoch, epoch_train_loss, validation_loss)"
   ]
  },
  {
   "cell_type": "code",
   "execution_count": 51,
   "metadata": {
    "colab": {
     "base_uri": "https://localhost:8080/",
     "height": 573
    },
    "id": "qVSsG_hQSt5x",
    "outputId": "9cf86522-1c87-473d-9a0f-12e51adce44b"
   },
   "outputs": [
    {
     "data": {
      "image/png": "[encoded data removed]",
      "text/plain": [
       "<Figure size 432x288 with 1 Axes>"
      ]
     },
     "metadata": {
      "needs_background": "light"
     },
     "output_type": "display_data"
    },
    {
     "data": {
      "image/png": "[encoded data removed]",
      "text/plain": [
       "<Figure size 432x288 with 1 Axes>"
      ]
     },
     "metadata": {
      "needs_background": "light"
     },
     "output_type": "display_data"
    }
   ],
   "source": [
    "draw_train_curve(x_epoch, epoch_train_loss)\n",
    "draw_val_curve(x_epoch, validation_loss)"
   ]
  },
  {
   "cell_type": "code",
   "execution_count": 46,
   "metadata": {
    "colab": {
     "base_uri": "https://localhost:8080/"
    },
    "id": "z0Nqzc6IZ7Cp",
    "outputId": "649712c7-e22a-452e-c230-1762fe41b96a"
   },
   "outputs": [
    {
     "name": "stdout",
     "output_type": "stream",
     "text": [
      "========================================================================================\n",
      "|End of training | test loss 17.2587 | test ppl 31285716.89\n",
      "========================================================================================\n"
     ]
    }
   ],
   "source": [
    "# Now, test the model using the testing set\n",
    "testing()"
   ]
  },
  {
   "cell_type": "code",
   "execution_count": 47,
   "metadata": {
    "id": "mWzFNqjVVonO"
   },
   "outputs": [],
   "source": [
    "# Close the file after writing to log\n",
    "file.close()"
   ]
  }
 ],
 "metadata": {
  "accelerator": "GPU",
  "colab": {
   "collapsed_sections": [],
   "name": "WordLevelModel.ipynb",
   "provenance": []
  },
  "gpuClass": "standard",
  "kernelspec": {
   "display_name": "Python 3 (ipykernel)",
   "language": "python",
   "name": "python3"
  },
  "language_info": {
   "codemirror_mode": {
    "name": "ipython",
    "version": 3
   },
   "file_extension": ".py",
   "mimetype": "text/x-python",
   "name": "python",
   "nbconvert_exporter": "python",
   "pygments_lexer": "ipython3",
   "version": "3.10.3"
  },
  "vscode": {
   "interpreter": {
    "hash": "aee8b7b246df8f9039afb4144a1f6fd8d2ca17a180786b69acc140d282b71a49"
   }
  }
 },
 "nbformat": 4,
 "nbformat_minor": 4
}
